{
 "cells": [
  {
   "cell_type": "code",
   "execution_count": null,
   "id": "38ac856d",
   "metadata": {},
   "outputs": [],
   "source": [
    "1. What is the relationship between def statements and lambda expressions ?"
   ]
  },
  {
   "cell_type": "code",
   "execution_count": null,
   "id": "d9819336",
   "metadata": {},
   "outputs": [],
   "source": [
    "Answer:\n",
    "    \n",
    "\n",
    "def statements can be used for creating any complecated or simple functions.\n",
    "def statements have specific name, used to call that function\n",
    "\n",
    "lambda expression are called as ananymous functions as they dont have name.\n",
    "lambda expressions are preferred for to create single line functions "
   ]
  },
  {
   "cell_type": "code",
   "execution_count": null,
   "id": "f0a8a372",
   "metadata": {},
   "outputs": [],
   "source": [
    "2. What is the benefit of lambda?"
   ]
  },
  {
   "cell_type": "code",
   "execution_count": null,
   "id": "f7515714",
   "metadata": {},
   "outputs": [],
   "source": [
    "Answer:\n",
    "- lambda expressions are preferred for to create single line functions\n",
    "- functions becomes more efficient, compact and also easy to read\n",
    "- saves time and space\n",
    "- very much useful to use with map, filter and reduce function where function input is necessaryb"
   ]
  },
  {
   "cell_type": "code",
   "execution_count": null,
   "id": "d23e1cde",
   "metadata": {},
   "outputs": [],
   "source": [
    "3. Compare and contrast map, filter, and reduce."
   ]
  },
  {
   "cell_type": "code",
   "execution_count": null,
   "id": "0f28c6c7",
   "metadata": {},
   "outputs": [],
   "source": [
    "Answer:\n",
    "    \n",
    "    map() function iterates through all items in iterable and executes function we passed as an argument on each of them.\n",
    "    we get mapobject function which should be used along with generator or iterator to get result from it\n",
    "    \n",
    "    filter() function takes a function object and an iterable and creates a new object for which condition is True\n",
    "    similar to mapobject, filter function also create filterobject which should be used along with generator or iterator to get result from it\n",
    "    \n",
    "    \n",
    "    reduce function return a single value from sequence. \n",
    "    it considers first two items in sequence at first, then it result obtained from function again considered as first and next value as second\n",
    "    it repeats procedure it it reduces sequence to single value"
   ]
  },
  {
   "cell_type": "code",
   "execution_count": null,
   "id": "99632967",
   "metadata": {},
   "outputs": [],
   "source": [
    "4. What are function annotations, and how are they used?"
   ]
  },
  {
   "cell_type": "code",
   "execution_count": null,
   "id": "225156e5",
   "metadata": {},
   "outputs": [],
   "source": [
    "Answer:\n",
    "    Function annotations allows you to add arbitrary metadata to function parameters and return value\n",
    "    They are completely optional both for parameters and return value"
   ]
  },
  {
   "cell_type": "code",
   "execution_count": null,
   "id": "0910598d",
   "metadata": {},
   "outputs": [],
   "source": []
  }
 ],
 "metadata": {
  "kernelspec": {
   "display_name": "Python 3 (ipykernel)",
   "language": "python",
   "name": "python3"
  },
  "language_info": {
   "codemirror_mode": {
    "name": "ipython",
    "version": 3
   },
   "file_extension": ".py",
   "mimetype": "text/x-python",
   "name": "python",
   "nbconvert_exporter": "python",
   "pygments_lexer": "ipython3",
   "version": "3.9.7"
  }
 },
 "nbformat": 4,
 "nbformat_minor": 5
}
