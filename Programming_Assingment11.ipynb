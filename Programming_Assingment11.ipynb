{
 "cells": [
  {
   "cell_type": "code",
   "execution_count": null,
   "id": "b2befaad",
   "metadata": {},
   "outputs": [],
   "source": [
    "1. Write a Python program to find words which are greater than given length k?"
   ]
  },
  {
   "cell_type": "code",
   "execution_count": 3,
   "id": "b4a63bfe",
   "metadata": {},
   "outputs": [],
   "source": [
    "def words_len(s):\n",
    "    k = int(input(\"Enter a number to find words which are greater than given length k: \"))\n",
    "    words = []\n",
    "    \n",
    "    for i in s.split():\n",
    "        if len(i) > k:\n",
    "            words.append(i)\n",
    "    return words"
   ]
  },
  {
   "cell_type": "code",
   "execution_count": 4,
   "id": "a85b421d",
   "metadata": {},
   "outputs": [
    {
     "name": "stdout",
     "output_type": "stream",
     "text": [
      "Enter a number to find words which are greater than given length k: 5\n"
     ]
    },
    {
     "data": {
      "text/plain": [
       "['Python', 'program', 'greater', 'length']"
      ]
     },
     "execution_count": 4,
     "metadata": {},
     "output_type": "execute_result"
    }
   ],
   "source": [
    "words_len('Write a Python program to find words which are greater than given length k?')"
   ]
  },
  {
   "cell_type": "code",
   "execution_count": null,
   "id": "39349a16",
   "metadata": {},
   "outputs": [],
   "source": [
    "2. Write a Python program for removing i-th character from a string?"
   ]
  },
  {
   "cell_type": "code",
   "execution_count": 30,
   "id": "fcc9af11",
   "metadata": {},
   "outputs": [],
   "source": [
    "def remove_ith_chr(str1,i):\n",
    "    \n",
    "    for j in range(len(str1)):\n",
    "        if j == i:\n",
    "            str1 = str1.replace(str1[i],\"\")\n",
    "    return str1"
   ]
  },
  {
   "cell_type": "code",
   "execution_count": 32,
   "id": "e3ebf0d5",
   "metadata": {},
   "outputs": [
    {
     "data": {
      "text/plain": [
       "'Writ a Python program for rmoving i-th charactr from a string?'"
      ]
     },
     "execution_count": 32,
     "metadata": {},
     "output_type": "execute_result"
    }
   ],
   "source": [
    "remove_ith_chr('Write a Python program for removing i-th character from a string?', 4)"
   ]
  },
  {
   "cell_type": "code",
   "execution_count": null,
   "id": "a892c355",
   "metadata": {},
   "outputs": [],
   "source": [
    "3. Write a Python program to split and join a string?"
   ]
  },
  {
   "cell_type": "code",
   "execution_count": 38,
   "id": "77e0ec05",
   "metadata": {},
   "outputs": [],
   "source": [
    "def split_join(str1):\n",
    "    new_str = str1.split()\n",
    "    return ' '.join(new_str)"
   ]
  },
  {
   "cell_type": "code",
   "execution_count": 39,
   "id": "16adfd38",
   "metadata": {},
   "outputs": [
    {
     "data": {
      "text/plain": [
       "'Write a Python program to split and join a string?'"
      ]
     },
     "execution_count": 39,
     "metadata": {},
     "output_type": "execute_result"
    }
   ],
   "source": [
    "split_join('Write a Python program to split and join a string?')"
   ]
  },
  {
   "cell_type": "code",
   "execution_count": null,
   "id": "6d791c2b",
   "metadata": {},
   "outputs": [],
   "source": [
    "4. Write a Python to check if a given string is binary string or not?"
   ]
  },
  {
   "cell_type": "code",
   "execution_count": 65,
   "id": "e8fe472e",
   "metadata": {},
   "outputs": [],
   "source": [
    "def binary_string(str1):\n",
    "    unique_chr = set(str1)\n",
    "    binary = {'0', '1'}\n",
    "    \n",
    "    if unique_chr == binary or unique_chr == {'0'} or unique_chr == {'1'}:\n",
    "        print(\"binary string\")\n",
    "    else:\n",
    "        print('Not binary string')"
   ]
  },
  {
   "cell_type": "code",
   "execution_count": 66,
   "id": "7741f85e",
   "metadata": {},
   "outputs": [
    {
     "name": "stdout",
     "output_type": "stream",
     "text": [
      "binary string\n"
     ]
    }
   ],
   "source": [
    "binary_string('0010101010')"
   ]
  },
  {
   "cell_type": "code",
   "execution_count": null,
   "id": "57189fe0",
   "metadata": {},
   "outputs": [],
   "source": [
    "5. Write a Python program to find uncommon words from two Strings?"
   ]
  },
  {
   "cell_type": "code",
   "execution_count": 75,
   "id": "f662bef0",
   "metadata": {},
   "outputs": [],
   "source": [
    "def uncommon_words(s1,s2):\n",
    "    uncommon = []\n",
    "    s1 = s1.split()\n",
    "    s2 = s2.split()\n",
    "    \n",
    "    for i in s1:\n",
    "        if i not in s2:\n",
    "            uncommon.append(i)\n",
    "    for j in s2:\n",
    "        if j not in s1:\n",
    "            uncommon.append(j)\n",
    "    return uncommon"
   ]
  },
  {
   "cell_type": "code",
   "execution_count": 76,
   "id": "a6351777",
   "metadata": {},
   "outputs": [
    {
     "data": {
      "text/plain": [
       "['Hello,', 'there', 'I', 'am', 'ok']"
      ]
     },
     "execution_count": 76,
     "metadata": {},
     "output_type": "execute_result"
    }
   ],
   "source": [
    "uncommon_words('Hello, there', 'I am ok')"
   ]
  },
  {
   "cell_type": "code",
   "execution_count": null,
   "id": "9cd6650f",
   "metadata": {},
   "outputs": [],
   "source": [
    "6. Write a Python to find all duplicate characters in string?"
   ]
  },
  {
   "cell_type": "code",
   "execution_count": 90,
   "id": "ee2473f6",
   "metadata": {},
   "outputs": [],
   "source": [
    "def duplicates(string):\n",
    "    d = []\n",
    "    \n",
    "    for i in string:\n",
    "        if string.count(i) > 1:\n",
    "            d.append(i)\n",
    "    print(d)\n",
    "\n",
    "duplicates('find duplicates')"
   ]
  },
  {
   "cell_type": "code",
   "execution_count": null,
   "id": "b183b3e2",
   "metadata": {},
   "outputs": [],
   "source": [
    "7. Write a Python Program to check if a string contains any special character?"
   ]
  },
  {
   "cell_type": "code",
   "execution_count": 112,
   "id": "c4fa556f",
   "metadata": {},
   "outputs": [],
   "source": [
    "def spl_chr(string):\n",
    "    for chr in string:\n",
    "        if chr in '!\"#$%&\\'()*+,-./:;<=>?@[\\\\]^_`{|}~':\n",
    "            print(\"string contains special character\")\n",
    "            break\n",
    "    else:\n",
    "        print(\"string do not contain special character\")"
   ]
  },
  {
   "cell_type": "code",
   "execution_count": 113,
   "id": "f5ff6000",
   "metadata": {},
   "outputs": [
    {
     "name": "stdout",
     "output_type": "stream",
     "text": [
      "string contains special character\n"
     ]
    }
   ],
   "source": [
    "spl_chr('find @duplicates')"
   ]
  }
 ],
 "metadata": {
  "kernelspec": {
   "display_name": "Python 3 (ipykernel)",
   "language": "python",
   "name": "python3"
  },
  "language_info": {
   "codemirror_mode": {
    "name": "ipython",
    "version": 3
   },
   "file_extension": ".py",
   "mimetype": "text/x-python",
   "name": "python",
   "nbconvert_exporter": "python",
   "pygments_lexer": "ipython3",
   "version": "3.9.7"
  }
 },
 "nbformat": 4,
 "nbformat_minor": 5
}
