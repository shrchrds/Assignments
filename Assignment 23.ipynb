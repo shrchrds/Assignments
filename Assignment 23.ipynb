{
 "cells": [
  {
   "cell_type": "code",
   "execution_count": null,
   "id": "9295726e",
   "metadata": {},
   "outputs": [],
   "source": [
    "1. What is the result of the code, and why?\n",
    ">>> def func(a, b=6, c=8):\n",
    "print(a, b, c)\n",
    ">>> func(1, 2)\n",
    "\n",
    "# Answer:\n",
    "result will be 1 2 8\n",
    "here default value of b is 6 and c is 8.\n",
    "in func(1,2), function is taking these values for a and b.\n",
    "but for c no input is given, hence it takes default value = 8\n",
    "our function is print(a,b,c) so it gives output of 1 2 8"
   ]
  },
  {
   "cell_type": "code",
   "execution_count": null,
   "id": "cd55e686",
   "metadata": {},
   "outputs": [],
   "source": [
    "2. What is the result of this code, and why?\n",
    ">>> def func(a, b, c=5):\n",
    "print(a, b, c)\n",
    ">>> func(1, c=3, b=2)\n",
    "\n",
    "# Answer:\n",
    "result will be 1 2 3\n",
    "here default value of c is 5, but in func(1, c=3, b=2), \n",
    "function is taking a = 1, b = 2 and c = 3.\n",
    "hence output will be 1 2 3"
   ]
  },
  {
   "cell_type": "code",
   "execution_count": null,
   "id": "86edc64b",
   "metadata": {},
   "outputs": [],
   "source": [
    "3. How about this code: what is its result, and why?\n",
    ">>> def func(a, *pargs):\n",
    "print(a, pargs)\n",
    ">>> func(1, 2, 3)\n",
    "\n",
    "# Answer:\n",
    "result will be 1 (2, 3) --> in tuple form as its an argument\n",
    "here we have 'a' variable and many numbers of pargs\n",
    "so func(1,2,3) will consider a = 1 and *pargs = 2, 3. \n",
    "output of arguments is in tuple form\n",
    "hence result will be 1 (2, 3)"
   ]
  },
  {
   "cell_type": "code",
   "execution_count": null,
   "id": "705f2d7c",
   "metadata": {},
   "outputs": [],
   "source": [
    "4. What does this code print, and why?\n",
    ">>> def func(a, **kargs):\n",
    "print(a, kargs)\n",
    ">>> func(a=1, c=3, b=2)\n",
    "\n",
    "# Answer:\n",
    "\n",
    "result will be 1 {'c':3,'b':2} --> in dict form as its an key word argument\n",
    "here we have 'a' variable and many numbers of kwargs\n",
    "so func(a=1, c=3, b=2) will consider a = 1 and *kwargs = 2, 3. \n",
    "output of kwargs is in dict form\n",
    "hence result will be 1 {'c':3,'b':2}"
   ]
  },
  {
   "cell_type": "code",
   "execution_count": null,
   "id": "99d3b511",
   "metadata": {},
   "outputs": [],
   "source": [
    "5. What gets printed by this, and explain?\n",
    ">>> def func(a, b, c=8, d=5): print(a, b, c, d)\n",
    ">>> func(1, *(5, 6))\n",
    "\n",
    "# Answer:\n",
    "\n",
    "result will be 1 5 8 5 as in func(1, *(5, 6)), \n",
    "input given is a = 1, b = 5, default c = 8 and default d = 5"
   ]
  },
  {
   "cell_type": "code",
   "execution_count": null,
   "id": "8972afc7",
   "metadata": {},
   "outputs": [],
   "source": [
    "6. what is the result of this, and explain?\n",
    ">>> def func(a, b, c): a = 2; b[0] = 'x'; c['a'] = 'y'\n",
    ">>> l=1; m=[1]; n={'a':0}\n",
    ">>> func(l, m, n)\n",
    ">>> l, m, n\n",
    "\n",
    "# Answer:\n",
    "we will gen an error as we have defined function with variable a,b,c \n",
    "but we are calling function with variables l,m,n without assigning to defined variables."
   ]
  },
  {
   "cell_type": "code",
   "execution_count": null,
   "id": "9f35e795",
   "metadata": {},
   "outputs": [],
   "source": []
  }
 ],
 "metadata": {
  "kernelspec": {
   "display_name": "Python 3 (ipykernel)",
   "language": "python",
   "name": "python3"
  },
  "language_info": {
   "codemirror_mode": {
    "name": "ipython",
    "version": 3
   },
   "file_extension": ".py",
   "mimetype": "text/x-python",
   "name": "python",
   "nbconvert_exporter": "python",
   "pygments_lexer": "ipython3",
   "version": "3.9.7"
  }
 },
 "nbformat": 4,
 "nbformat_minor": 5
}
