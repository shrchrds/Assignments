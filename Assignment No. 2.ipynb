{
 "cells": [
  {
   "cell_type": "code",
   "execution_count": null,
   "id": "292196b5",
   "metadata": {},
   "outputs": [],
   "source": [
    "1.What are the two values of the Boolean data type? How do you write them?\n",
    "\n",
    "Answer: True and False"
   ]
  },
  {
   "cell_type": "code",
   "execution_count": null,
   "id": "38be4f06",
   "metadata": {},
   "outputs": [],
   "source": [
    "2. What are the three different types of Boolean operators?\n",
    "Answer:\n",
    "    and, or, not"
   ]
  },
  {
   "cell_type": "code",
   "execution_count": null,
   "id": "df73d474",
   "metadata": {},
   "outputs": [],
   "source": [
    "3. Make a list of each Boolean operator's truth tables (i.e. every possible combination of Boolean values for the operator and what it evaluate )."
   ]
  },
  {
   "cell_type": "code",
   "execution_count": null,
   "id": "78d7aa1a",
   "metadata": {},
   "outputs": [],
   "source": [
    "True and True = True\n",
    "True and False = False\n",
    "True and False= False\n",
    "False and False = False\n",
    "\n",
    "True or True = True\n",
    "True or False = True\n",
    "False or True = True\n",
    "False or False = False\n",
    "\n",
    "not True = False\n",
    "not False = True"
   ]
  },
  {
   "cell_type": "code",
   "execution_count": null,
   "id": "46fb20f6",
   "metadata": {},
   "outputs": [],
   "source": [
    "4. What are the values of the following expressions?\n",
    "Answer:\n",
    "(5 > 4) and (3 == 5) : False\n",
    "not (5 > 4): False\n",
    "(5 > 4) or (3 == 5): True\n",
    "not ((5 > 4) or (3 == 5)) : False\n",
    "(True and True) and (True == False): False\n",
    "(not False) or (not True): True"
   ]
  },
  {
   "cell_type": "code",
   "execution_count": null,
   "id": "ee467641",
   "metadata": {},
   "outputs": [],
   "source": [
    "5. What are the six comparison operators?\n",
    "Answer:\n",
    "> : greater than\n",
    "< : less than\n",
    ">= : greater than equal to\n",
    "<= : less than equal to\n",
    "== : equal to\n",
    "!= : not equal to"
   ]
  },
  {
   "cell_type": "code",
   "execution_count": null,
   "id": "41b223e6",
   "metadata": {},
   "outputs": [],
   "source": [
    "6. How do you tell the difference between the equal to and assignment operators?  \n",
    "    Describe a condition and when you would use one.\n",
    "Answer:\n",
    "    == : it is a comparison operator used to check whether value is equal to something or not\n",
    "    = : is assignment operator used to assign a value to variable    "
   ]
  },
  {
   "cell_type": "code",
   "execution_count": 17,
   "id": "af2ada6d",
   "metadata": {},
   "outputs": [
    {
     "data": {
      "text/plain": [
       "True"
      ]
     },
     "execution_count": 17,
     "metadata": {},
     "output_type": "execute_result"
    }
   ],
   "source": [
    "# e.g.\n",
    "a = 10 # meaning we are assigning a value of 10 in variable a\n",
    "a == 10 # meaning we are comparing value of a with 10"
   ]
  },
  {
   "cell_type": "code",
   "execution_count": null,
   "id": "ee05801b",
   "metadata": {},
   "outputs": [],
   "source": [
    "7. Identify the three blocks in this code:\n",
    "spam = 0\n",
    "if spam == 10:\n",
    "print('eggs')\n",
    "if spam > 5:\n",
    "print('bacon')\n",
    "else:\n",
    "print('ham')\n",
    "print('spam')\n",
    "print('spam')\n",
    "\n",
    "Answer\n",
    "\n",
    "spam = 0\n",
    "if spam == 10:\n",
    "    print('eggs')\n",
    "if spam > 5:\n",
    "    print('bacon')\n",
    "else:\n",
    "    print('ham')\n",
    "    print('spam')\n",
    "    print('spam')"
   ]
  },
  {
   "cell_type": "code",
   "execution_count": null,
   "id": "b1f89351",
   "metadata": {},
   "outputs": [],
   "source": [
    "8. Write code that prints Hello if 1 is stored in spam, \n",
    "prints Howdy if 2 is stored in spam, \n",
    "and prints Greetings! if anything else is stored in spam."
   ]
  },
  {
   "cell_type": "code",
   "execution_count": 21,
   "id": "853a3a4a",
   "metadata": {
    "scrolled": true
   },
   "outputs": [
    {
     "name": "stdout",
     "output_type": "stream",
     "text": [
      "Greetings!\n"
     ]
    }
   ],
   "source": [
    "if spam == 1 :\n",
    "    print(\"Hello\")\n",
    "elif spam == 2 :\n",
    "    print(\"Howdy\")\n",
    "else:\n",
    "    print(\"Greetings!\")"
   ]
  },
  {
   "cell_type": "code",
   "execution_count": null,
   "id": "01fc5674",
   "metadata": {},
   "outputs": [],
   "source": [
    "9.If your programme is stuck in an endless loop, what keys you’ll press?\n",
    "\n",
    "Answer: \n",
    "    press escape to come out of coding tab:\n",
    "        press i two times >> Interrupt\n",
    "        press o two times >> restart"
   ]
  },
  {
   "cell_type": "code",
   "execution_count": null,
   "id": "7c190e00",
   "metadata": {},
   "outputs": [],
   "source": [
    "10. How can you tell the difference between break and continue?"
   ]
  },
  {
   "cell_type": "code",
   "execution_count": null,
   "id": "122c4b79",
   "metadata": {},
   "outputs": [],
   "source": [
    "break and continue used in while and for loop\n",
    "break: used to break and come out of loop\n",
    "continue: used to skip and jump to next iteration"
   ]
  },
  {
   "cell_type": "code",
   "execution_count": null,
   "id": "4d4acff9",
   "metadata": {},
   "outputs": [],
   "source": [
    "11. In a for loop, what is the difference between range(10), range(0, 10), and range(0, 10, 1)?"
   ]
  },
  {
   "cell_type": "code",
   "execution_count": null,
   "id": "acd2edc5",
   "metadata": {},
   "outputs": [],
   "source": [
    "There is no difference between range(10), range(0, 10), and range(0, 10, 1).\n",
    "All means we range of 0 to 10 (excluding) with step size of 1."
   ]
  },
  {
   "cell_type": "code",
   "execution_count": 24,
   "id": "b1ac24f4",
   "metadata": {},
   "outputs": [
    {
     "name": "stdout",
     "output_type": "stream",
     "text": [
      "range(10):  [0, 1, 2, 3, 4, 5, 6, 7, 8, 9]\n",
      "range(0,10):  [0, 1, 2, 3, 4, 5, 6, 7, 8, 9]\n",
      "range(0,10,1):  [0, 1, 2, 3, 4, 5, 6, 7, 8, 9]\n"
     ]
    }
   ],
   "source": [
    "print('range(10): ',list(range(10)))\n",
    "print('range(0,10): ',list(range(0,10)))\n",
    "print('range(0,10,1): ',list(range(0,10,1)))"
   ]
  },
  {
   "cell_type": "code",
   "execution_count": null,
   "id": "6568dfcc",
   "metadata": {},
   "outputs": [],
   "source": [
    "12. Write a short program that prints the numbers 1 to 10 using a for loop. Then write an equivalent program that prints the numbers 1 to 10 using a while loop."
   ]
  },
  {
   "cell_type": "code",
   "execution_count": 25,
   "id": "dccf1b25",
   "metadata": {},
   "outputs": [
    {
     "name": "stdout",
     "output_type": "stream",
     "text": [
      "1\n",
      "2\n",
      "3\n",
      "4\n",
      "5\n",
      "6\n",
      "7\n",
      "8\n",
      "9\n",
      "10\n"
     ]
    }
   ],
   "source": [
    "# for loop\n",
    "\n",
    "for i in range(1,11):\n",
    "    print(i)"
   ]
  },
  {
   "cell_type": "code",
   "execution_count": 28,
   "id": "9b995a30",
   "metadata": {},
   "outputs": [
    {
     "name": "stdout",
     "output_type": "stream",
     "text": [
      "1\n",
      "2\n",
      "3\n",
      "4\n",
      "5\n",
      "6\n",
      "7\n",
      "8\n",
      "9\n",
      "10\n"
     ]
    }
   ],
   "source": [
    "# while loop\n",
    "\n",
    "i = 1\n",
    "while i <=10:\n",
    "    print(i)\n",
    "    i +=1"
   ]
  },
  {
   "cell_type": "code",
   "execution_count": null,
   "id": "c96dacee",
   "metadata": {},
   "outputs": [],
   "source": [
    "13. If you had a function named bacon() inside a module named spam, how would you call it after importing spam?"
   ]
  },
  {
   "cell_type": "code",
   "execution_count": null,
   "id": "fa04abb2",
   "metadata": {},
   "outputs": [],
   "source": [
    "spam.bacon()"
   ]
  }
 ],
 "metadata": {
  "kernelspec": {
   "display_name": "Python 3 (ipykernel)",
   "language": "python",
   "name": "python3"
  },
  "language_info": {
   "codemirror_mode": {
    "name": "ipython",
    "version": 3
   },
   "file_extension": ".py",
   "mimetype": "text/x-python",
   "name": "python",
   "nbconvert_exporter": "python",
   "pygments_lexer": "ipython3",
   "version": "3.9.7"
  }
 },
 "nbformat": 4,
 "nbformat_minor": 5
}
