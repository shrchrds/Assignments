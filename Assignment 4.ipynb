{
 "cells": [
  {
   "cell_type": "code",
   "execution_count": null,
   "id": "ed94c850",
   "metadata": {},
   "outputs": [],
   "source": [
    "1. What exactly is []?"
   ]
  },
  {
   "cell_type": "code",
   "execution_count": null,
   "id": "2689c656",
   "metadata": {},
   "outputs": [],
   "source": [
    "[] is empty list"
   ]
  },
  {
   "cell_type": "code",
   "execution_count": null,
   "id": "ab045b9c",
   "metadata": {},
   "outputs": [],
   "source": [
    "2. In a list of values stored in a variable called spam, how would you assign the value 'hello' as the third value? \n",
    "(Assume [2, 4, 6, 8, 10] are in spam.)"
   ]
  },
  {
   "cell_type": "code",
   "execution_count": 5,
   "id": "f9fe1031",
   "metadata": {},
   "outputs": [
    {
     "name": "stdout",
     "output_type": "stream",
     "text": [
      "[2, 4, 'Hello', 6, 8, 10]\n"
     ]
    }
   ],
   "source": [
    "spam = [2, 4, 6, 8, 10]\n",
    "spam.insert(2,\"Hello\")\n",
    "print(spam)"
   ]
  },
  {
   "cell_type": "code",
   "execution_count": null,
   "id": "a556caee",
   "metadata": {},
   "outputs": [],
   "source": [
    "Let's pretend the spam includes the list ['a', 'b', 'c', 'd'] for the next three queries.\n",
    "3. What is the value of spam[int(int('3' * 2) / 11)]?\n",
    "\n",
    "Ans: \n",
    "'3'*2 = '33'\n",
    "int('33') = 33\n",
    "33/11 = 3\n",
    "spam[3] - 'd'"
   ]
  },
  {
   "cell_type": "code",
   "execution_count": null,
   "id": "26e25568",
   "metadata": {},
   "outputs": [],
   "source": [
    "4. What is the value of spam[-1]?\n",
    "Ans: 'd'"
   ]
  },
  {
   "cell_type": "code",
   "execution_count": null,
   "id": "d08826a5",
   "metadata": {},
   "outputs": [],
   "source": [
    "5. What is the value of spam[:2]?\n",
    "Ans:\n",
    "    ['a','b']"
   ]
  },
  {
   "cell_type": "code",
   "execution_count": null,
   "id": "720c840a",
   "metadata": {},
   "outputs": [],
   "source": [
    "Let's pretend bacon has the list [3.14, 'cat,' 11, 'cat,' True] for the next three questions.\n",
    "\n",
    "# considering : 'cat,' -- 'cat',\n",
    "    \n",
    "6. What is the value of bacon.index('cat')?\n",
    "Ans: 1\n",
    "\n",
    "7. How does bacon.append(99) change the look of the list value in bacon?\n",
    "Ans : [3.14, 'cat,' 11, 'cat,' True, 99]\n",
    "    \n",
    "8. How does bacon.remove('cat') change the look of the list in bacon?\n",
    "Ans: [3.14, 11, 'cat', True, 99]"
   ]
  },
  {
   "cell_type": "code",
   "execution_count": null,
   "id": "789708c8",
   "metadata": {},
   "outputs": [],
   "source": [
    "9. What are the list concatenation and list replication operators?"
   ]
  },
  {
   "cell_type": "code",
   "execution_count": null,
   "id": "932bd805",
   "metadata": {},
   "outputs": [],
   "source": [
    "Ans:\n",
    "list concatenation operator --> + \n",
    "list replication operator --> *"
   ]
  },
  {
   "cell_type": "code",
   "execution_count": null,
   "id": "59c7767b",
   "metadata": {},
   "outputs": [],
   "source": [
    "10. What is difference between the list methods append() and insert()?"
   ]
  },
  {
   "cell_type": "code",
   "execution_count": 19,
   "id": "2993168f",
   "metadata": {},
   "outputs": [
    {
     "name": "stdout",
     "output_type": "stream",
     "text": [
      "[2, 4, 6, 8, 10, 2]\n"
     ]
    }
   ],
   "source": [
    "Ans:\n",
    "append() function can be used to add a single element at end of list\n",
    "\n",
    "insert() function can be used to add an element at any specified index of list"
   ]
  },
  {
   "cell_type": "code",
   "execution_count": null,
   "id": "976be072",
   "metadata": {},
   "outputs": [],
   "source": [
    "11. What are the two methods for removing items from a list?"
   ]
  },
  {
   "cell_type": "code",
   "execution_count": null,
   "id": "bfd59eae",
   "metadata": {},
   "outputs": [],
   "source": [
    "Ans:\n",
    "1. remove() : used to remove first occurrence of item from list\n",
    "2. pop() : used to remove an element at specified index. default index is last"
   ]
  },
  {
   "cell_type": "code",
   "execution_count": null,
   "id": "8e9b90de",
   "metadata": {},
   "outputs": [],
   "source": [
    "12. Describe how list values and string values are identical."
   ]
  },
  {
   "cell_type": "code",
   "execution_count": null,
   "id": "d7ca0120",
   "metadata": {},
   "outputs": [],
   "source": [
    "Ans:\n",
    "- list and string both are ordered \n",
    "- list and string both can be accessed using indexing and slicing\n",
    "- to perform default functions on both list and string we can use . and select available default function\n",
    "- we can use type casting for both list and string to convert to string and list respectively"
   ]
  },
  {
   "cell_type": "code",
   "execution_count": null,
   "id": "2c36502b",
   "metadata": {},
   "outputs": [],
   "source": [
    "13. What is the difference between tuples and lists?"
   ]
  },
  {
   "cell_type": "code",
   "execution_count": null,
   "id": "b31a6ce9",
   "metadata": {},
   "outputs": [],
   "source": [
    "Ans:\n",
    "    \n",
    "similarities : both are sequences used to store data\n",
    "    \n",
    "difference: \n",
    "1. lists are mutable, but tuples are immutable\n",
    "2. values stored in [] for lists and () for tuples\n",
    "3. lists have more built in functions than tuples\n",
    "4. lists are not memory efficient, it requires more memory than tuples\n",
    "5. single value of tuple = (2,) where as list = [2]"
   ]
  },
  {
   "cell_type": "code",
   "execution_count": null,
   "id": "05ecde54",
   "metadata": {},
   "outputs": [],
   "source": [
    "14. How do you type a tuple value that only contains the integer 42?"
   ]
  },
  {
   "cell_type": "code",
   "execution_count": 12,
   "id": "24d31898",
   "metadata": {},
   "outputs": [],
   "source": [
    "Ans: \n",
    "    (42,)"
   ]
  },
  {
   "cell_type": "code",
   "execution_count": 12,
   "id": "d12c8a28",
   "metadata": {},
   "outputs": [],
   "source": [
    "15. How do you get a list value's tuple form? How do you get a tuple value's list form?"
   ]
  },
  {
   "cell_type": "code",
   "execution_count": null,
   "id": "44a06e98",
   "metadata": {},
   "outputs": [],
   "source": [
    "Ans:\n",
    "    we can use type casting to get list value's tuple form and tuple value's list form"
   ]
  },
  {
   "cell_type": "code",
   "execution_count": 20,
   "id": "b18da94f",
   "metadata": {},
   "outputs": [
    {
     "name": "stdout",
     "output_type": "stream",
     "text": [
      "(1, 2, 3)\n"
     ]
    }
   ],
   "source": [
    "l = [1,2,3]\n",
    "t = tuple(l)\n",
    "print(t)"
   ]
  },
  {
   "cell_type": "code",
   "execution_count": 21,
   "id": "bb99e79d",
   "metadata": {},
   "outputs": [
    {
     "data": {
      "text/plain": [
       "[1, 2, 3]"
      ]
     },
     "execution_count": 21,
     "metadata": {},
     "output_type": "execute_result"
    }
   ],
   "source": [
    "list(t)"
   ]
  },
  {
   "cell_type": "code",
   "execution_count": null,
   "id": "ece922cc",
   "metadata": {},
   "outputs": [],
   "source": [
    "16. Variables that \"contain\" list values are not necessarily lists themselves. Instead, what do they contain?"
   ]
  },
  {
   "cell_type": "code",
   "execution_count": null,
   "id": "7a833f19",
   "metadata": {},
   "outputs": [],
   "source": [
    "tuple, and dictionary can have list values. \n",
    "so variable that contain list values are not necessarily lists themselves.\n",
    "such variable will have type of dictionary or tuple"
   ]
  },
  {
   "cell_type": "code",
   "execution_count": 23,
   "id": "ce60d12f",
   "metadata": {},
   "outputs": [
    {
     "name": "stdout",
     "output_type": "stream",
     "text": [
      "<class 'tuple'>\n"
     ]
    }
   ],
   "source": [
    "t = ([1,2,3], 'shiv')\n",
    "print(type(t))"
   ]
  },
  {
   "cell_type": "code",
   "execution_count": 24,
   "id": "2f139c0d",
   "metadata": {},
   "outputs": [
    {
     "data": {
      "text/plain": [
       "dict"
      ]
     },
     "execution_count": 24,
     "metadata": {},
     "output_type": "execute_result"
    }
   ],
   "source": [
    "d = {'k1':[1,2,3], 'k2':'shiv'}\n",
    "type(d)"
   ]
  },
  {
   "cell_type": "code",
   "execution_count": null,
   "id": "7485f92b",
   "metadata": {},
   "outputs": [],
   "source": [
    "17. How do you distinguish between copy.copy() and copy.deepcopy()?"
   ]
  },
  {
   "cell_type": "code",
   "execution_count": null,
   "id": "47e159e6",
   "metadata": {},
   "outputs": [],
   "source": [
    "for nested lists if we use copy function then any changes in nested list will be reflected in original list\n",
    "for nested lists if we use deep copy any changes in nested list will not be reflected in original list"
   ]
  },
  {
   "cell_type": "code",
   "execution_count": 61,
   "id": "79d28f19",
   "metadata": {},
   "outputs": [],
   "source": [
    "l = [10,[20,30]]"
   ]
  },
  {
   "cell_type": "code",
   "execution_count": 62,
   "id": "2c8553af",
   "metadata": {},
   "outputs": [],
   "source": [
    "import copy"
   ]
  },
  {
   "cell_type": "code",
   "execution_count": 63,
   "id": "11f60890",
   "metadata": {},
   "outputs": [],
   "source": [
    "l2 = copy.copy(l)"
   ]
  },
  {
   "cell_type": "code",
   "execution_count": 64,
   "id": "2ab02199",
   "metadata": {},
   "outputs": [],
   "source": [
    "l2[-1][-1] = 100"
   ]
  },
  {
   "cell_type": "code",
   "execution_count": 65,
   "id": "278820ff",
   "metadata": {},
   "outputs": [
    {
     "data": {
      "text/plain": [
       "[10, [20, 100]]"
      ]
     },
     "execution_count": 65,
     "metadata": {},
     "output_type": "execute_result"
    }
   ],
   "source": [
    "l2"
   ]
  },
  {
   "cell_type": "code",
   "execution_count": 66,
   "id": "0a364104",
   "metadata": {},
   "outputs": [
    {
     "data": {
      "text/plain": [
       "[10, [20, 100]]"
      ]
     },
     "execution_count": 66,
     "metadata": {},
     "output_type": "execute_result"
    }
   ],
   "source": [
    "l"
   ]
  },
  {
   "cell_type": "code",
   "execution_count": null,
   "id": "d0fb4aca",
   "metadata": {},
   "outputs": [],
   "source": [
    "changes made in l2 are also reflected in original list"
   ]
  },
  {
   "cell_type": "code",
   "execution_count": 67,
   "id": "3b2c3cb1",
   "metadata": {},
   "outputs": [],
   "source": [
    "l3 = copy.deepcopy(l)"
   ]
  },
  {
   "cell_type": "code",
   "execution_count": 69,
   "id": "4a22fb95",
   "metadata": {},
   "outputs": [],
   "source": [
    "l3[1][0] = 100 "
   ]
  },
  {
   "cell_type": "code",
   "execution_count": 70,
   "id": "884bf0d7",
   "metadata": {},
   "outputs": [
    {
     "data": {
      "text/plain": [
       "[10, [100, 100]]"
      ]
     },
     "execution_count": 70,
     "metadata": {},
     "output_type": "execute_result"
    }
   ],
   "source": [
    "l3"
   ]
  },
  {
   "cell_type": "code",
   "execution_count": 71,
   "id": "788afaf5",
   "metadata": {},
   "outputs": [
    {
     "data": {
      "text/plain": [
       "[10, [20, 100]]"
      ]
     },
     "execution_count": 71,
     "metadata": {},
     "output_type": "execute_result"
    }
   ],
   "source": [
    "l"
   ]
  },
  {
   "cell_type": "code",
   "execution_count": null,
   "id": "7e80ef81",
   "metadata": {},
   "outputs": [],
   "source": [
    "100 value is updated in l3 but not in l which is updated in case of copy function"
   ]
  }
 ],
 "metadata": {
  "kernelspec": {
   "display_name": "Python 3 (ipykernel)",
   "language": "python",
   "name": "python3"
  },
  "language_info": {
   "codemirror_mode": {
    "name": "ipython",
    "version": 3
   },
   "file_extension": ".py",
   "mimetype": "text/x-python",
   "name": "python",
   "nbconvert_exporter": "python",
   "pygments_lexer": "ipython3",
   "version": "3.9.7"
  }
 },
 "nbformat": 4,
 "nbformat_minor": 5
}
