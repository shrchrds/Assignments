{
 "cells": [
  {
   "cell_type": "code",
   "execution_count": null,
   "id": "8dc141cd",
   "metadata": {},
   "outputs": [],
   "source": [
    "1. Write a Python Program to Find the Factorial of a Number?"
   ]
  },
  {
   "cell_type": "code",
   "execution_count": 3,
   "id": "19b90ba7",
   "metadata": {},
   "outputs": [
    {
     "name": "stdout",
     "output_type": "stream",
     "text": [
      "Enter a number to find factorial: 5\n",
      "120\n"
     ]
    }
   ],
   "source": [
    "n = int(input('Enter a number to find factorial: '))\n",
    "\n",
    "f = 1\n",
    "for i in range(1,n+1):\n",
    "    f *= i\n",
    "print(f)"
   ]
  },
  {
   "cell_type": "code",
   "execution_count": null,
   "id": "c54e772f",
   "metadata": {},
   "outputs": [],
   "source": [
    "2. Write a Python Program to Display the multiplication Table?"
   ]
  },
  {
   "cell_type": "code",
   "execution_count": 6,
   "id": "daf8eb9e",
   "metadata": {},
   "outputs": [
    {
     "name": "stdout",
     "output_type": "stream",
     "text": [
      "Enter a number to find its table: 5\n",
      "5 x 1 = 5\n",
      "5 x 2 = 10\n",
      "5 x 3 = 15\n",
      "5 x 4 = 20\n",
      "5 x 5 = 25\n",
      "5 x 6 = 30\n",
      "5 x 7 = 35\n",
      "5 x 8 = 40\n",
      "5 x 9 = 45\n",
      "5 x 10 = 50\n"
     ]
    }
   ],
   "source": [
    "n = int(input('Enter a number to find its table: '))\n",
    "\n",
    "i = 1\n",
    "while i <= 10:\n",
    "    \n",
    "    print(f\"{n} x {i} = {n*i}\")\n",
    "    i += 1"
   ]
  },
  {
   "cell_type": "code",
   "execution_count": null,
   "id": "5d557e91",
   "metadata": {},
   "outputs": [],
   "source": [
    "3. Write a Python Program to Print the Fibonacci sequence?"
   ]
  },
  {
   "cell_type": "code",
   "execution_count": 16,
   "id": "82e5bb55",
   "metadata": {},
   "outputs": [
    {
     "name": "stdout",
     "output_type": "stream",
     "text": [
      "Enter a number to find its fibonacci sequence: 7\n",
      "fibonacci series of 7 numbers is: \n",
      "0 \n",
      "1\n",
      "1\n",
      "2\n",
      "3\n",
      "5\n",
      "8\n"
     ]
    }
   ],
   "source": [
    "n = int(input('Enter a number to find its fibonacci sequence: '))\n",
    "\n",
    "first = 0\n",
    "second = 1\n",
    "\n",
    "print(f\"fibonacci series of {n} numbers is: \\n{first} \\n{second}\")\n",
    "for i in range(0,n-2):\n",
    "    new = first + second\n",
    "    first = second\n",
    "    second = new\n",
    "    \n",
    "    print(new)"
   ]
  },
  {
   "cell_type": "code",
   "execution_count": null,
   "id": "dbe71a6b",
   "metadata": {},
   "outputs": [],
   "source": [
    "4. Write a Python Program to Check Armstrong Number?"
   ]
  },
  {
   "cell_type": "code",
   "execution_count": 29,
   "id": "7b0908a7",
   "metadata": {},
   "outputs": [
    {
     "name": "stdout",
     "output_type": "stream",
     "text": [
      "Enter a number to find Armstrong Number: 321\n",
      "321 is Not Armstrong Number\n"
     ]
    }
   ],
   "source": [
    "n = int(input('Enter a number to find Armstrong Number: '))\n",
    "\n",
    "s = 0\n",
    "\n",
    "i = n\n",
    "\n",
    "while i > 0:\n",
    "    digit = i % 10\n",
    "    s += digit ** 3\n",
    "    i //= 10\n",
    "    \n",
    "if n == s :\n",
    "    print(f\"{n} is Armstrong Number\")\n",
    "else:\n",
    "    print(f\"{n} is Not Armstrong Number\")"
   ]
  },
  {
   "cell_type": "code",
   "execution_count": null,
   "id": "a4efcdef",
   "metadata": {},
   "outputs": [],
   "source": [
    "5. Write a Python Program to Find Armstrong Number in an Interval?"
   ]
  },
  {
   "cell_type": "code",
   "execution_count": 40,
   "id": "4ff2043c",
   "metadata": {},
   "outputs": [
    {
     "name": "stdout",
     "output_type": "stream",
     "text": [
      "125\n",
      "153\n",
      "216\n",
      "370\n",
      "371\n",
      "407\n",
      "729\n"
     ]
    }
   ],
   "source": [
    "low = 100 \n",
    "upp = 1000\n",
    "\n",
    "for n in range(low, upp + 1):\n",
    "    \n",
    "    o = len(str(n))\n",
    "    \n",
    "    s = 0\n",
    "    \n",
    "    t = n\n",
    "\n",
    "    while t > 0:\n",
    "        \n",
    "        digit = t % 10\n",
    "        s += digit ** o\n",
    "        t //= 10\n",
    "\n",
    "        if n == s :\n",
    "            print(n)"
   ]
  },
  {
   "cell_type": "code",
   "execution_count": null,
   "id": "344a11ed",
   "metadata": {},
   "outputs": [],
   "source": [
    "6. Write a Python Program to Find the Sum of Natural Numbers?"
   ]
  },
  {
   "cell_type": "code",
   "execution_count": 19,
   "id": "7a410855",
   "metadata": {},
   "outputs": [
    {
     "name": "stdout",
     "output_type": "stream",
     "text": [
      "Enter a number to find sum of natural numbers: 10\n",
      "Sum of 10 Natural Numbers: 55.0\n"
     ]
    }
   ],
   "source": [
    "# sum of natural numbers = n(n+1)/2\n",
    "\n",
    "n = int(input('Enter a number to find sum of natural numbers: '))\n",
    "\n",
    "s = n * (n + 1) / 2\n",
    "\n",
    "print(f\"Sum of {n} Natural Numbers: {s}\")"
   ]
  },
  {
   "cell_type": "code",
   "execution_count": null,
   "id": "0540db2d",
   "metadata": {},
   "outputs": [],
   "source": []
  }
 ],
 "metadata": {
  "kernelspec": {
   "display_name": "Python 3 (ipykernel)",
   "language": "python",
   "name": "python3"
  },
  "language_info": {
   "codemirror_mode": {
    "name": "ipython",
    "version": 3
   },
   "file_extension": ".py",
   "mimetype": "text/x-python",
   "name": "python",
   "nbconvert_exporter": "python",
   "pygments_lexer": "ipython3",
   "version": "3.9.7"
  }
 },
 "nbformat": 4,
 "nbformat_minor": 5
}
