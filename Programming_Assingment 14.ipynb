{
 "cells": [
  {
   "cell_type": "markdown",
   "id": "6333ea2d",
   "metadata": {},
   "source": [
    "### 1. Define a class with a generator which can iterate the numbers, which are divisible by 7, between a given range 0 and n."
   ]
  },
  {
   "cell_type": "code",
   "execution_count": 47,
   "id": "09be2b30",
   "metadata": {},
   "outputs": [
    {
     "name": "stdout",
     "output_type": "stream",
     "text": [
      "0,7,14,21,28,35,42,49,56,63,70,77,84,91,98,"
     ]
    }
   ],
   "source": [
    "class Divisibleby7:\n",
    "    def __init__(self, num):\n",
    "        self.num = num\n",
    "    def divby7(self):\n",
    "        for num in range(0,self.num):\n",
    "            if num % 7 == 0:\n",
    "                yield num\n",
    "\n",
    "# calling a function\n",
    "numbers = Divisibleby7(100)\n",
    "for n in numbers.divby7():\n",
    "    print(n, end=',')"
   ]
  },
  {
   "cell_type": "markdown",
   "id": "4c32305d",
   "metadata": {},
   "source": [
    "### 2. Write a program to compute the frequency of the words from the input. The output should output after sorting the key alphanumerically. "
   ]
  },
  {
   "cell_type": "code",
   "execution_count": 48,
   "id": "9bcf3988",
   "metadata": {},
   "outputs": [
    {
     "name": "stdout",
     "output_type": "stream",
     "text": [
      "Enter a string to find frequency of words: India is my country\n",
      "India:1\n",
      "country:1\n",
      "is:1\n",
      "my:1\n"
     ]
    }
   ],
   "source": [
    "def compute_frequency():\n",
    "    inp_str = input(\"Enter a string to find frequency of words: \")\n",
    "    frequency_of_words = {}\n",
    "    for element in  inp_str.split():\n",
    "        if (frequency_of_words.get(element) == None):\n",
    "            frequency_of_words[element] = 1\n",
    "        else:\n",
    "            frequency_of_words[element] +=1\n",
    "    for element in sorted(frequency_of_words):\n",
    "        print(f'{element}:{frequency_of_words[element]}')\n",
    "compute_frequency()"
   ]
  },
  {
   "cell_type": "markdown",
   "id": "8a44d128",
   "metadata": {},
   "source": [
    "### 3. Define a class Person and its two child classes: Male and Female. All classes have a method \"getGender\" which can print \"Male\" for Male class and \"Female\" for Female class."
   ]
  },
  {
   "cell_type": "code",
   "execution_count": 49,
   "id": "c748ff4d",
   "metadata": {},
   "outputs": [],
   "source": [
    "class Person:\n",
    "    def getGender():\n",
    "        pass\n",
    "class Male(Person):\n",
    "    def getGender():\n",
    "        print(\"Male\")\n",
    "class Female(Person):\n",
    "    def getGender():\n",
    "        print(\"Female\")"
   ]
  },
  {
   "cell_type": "code",
   "execution_count": 50,
   "id": "0b36d18e",
   "metadata": {},
   "outputs": [],
   "source": [
    "m = Male\n",
    "f = Female"
   ]
  },
  {
   "cell_type": "code",
   "execution_count": 51,
   "id": "d9c220b9",
   "metadata": {},
   "outputs": [
    {
     "name": "stdout",
     "output_type": "stream",
     "text": [
      "Male\n"
     ]
    }
   ],
   "source": [
    "m.getGender()"
   ]
  },
  {
   "cell_type": "code",
   "execution_count": 52,
   "id": "609ebdc5",
   "metadata": {},
   "outputs": [
    {
     "name": "stdout",
     "output_type": "stream",
     "text": [
      "Female\n"
     ]
    }
   ],
   "source": [
    "f.getGender()"
   ]
  },
  {
   "cell_type": "markdown",
   "id": "751eee78",
   "metadata": {},
   "source": [
    "### 4. Please write a program to generate all sentences where subject is in [\"I\", \"You\"] and verb is in [\"Play\", \"Love\"] and the object is in [\"Hockey\",\"Football\"]."
   ]
  },
  {
   "cell_type": "code",
   "execution_count": 53,
   "id": "8fb82058",
   "metadata": {},
   "outputs": [
    {
     "name": "stdout",
     "output_type": "stream",
     "text": [
      "I Play Hockey\n",
      "I Play Football\n",
      "I Love Hockey\n",
      "I Love Football\n",
      "You Play Hockey\n",
      "You Play Football\n",
      "You Love Hockey\n",
      "You Love Football\n"
     ]
    }
   ],
   "source": [
    "subject = [\"I\", \"You\"]\n",
    "verb = [\"Play\", \"Love\"] \n",
    "obj = [\"Hockey\",\"Football\"]\n",
    "\n",
    "for i in subject :\n",
    "    for j in verb :\n",
    "        for k in obj :\n",
    "            print(i,j,k)"
   ]
  },
  {
   "cell_type": "markdown",
   "id": "e40a97ba",
   "metadata": {},
   "source": [
    "### 5. Please write a program to compress and decompress the string \"hello world!helloworld!helloworld!hello world!\"."
   ]
  },
  {
   "cell_type": "code",
   "execution_count": 35,
   "id": "e272b9c0",
   "metadata": {},
   "outputs": [
    {
     "name": "stdout",
     "output_type": "stream",
     "text": [
      "hel2o world!hel2oworld!hel2oworld!hel2o world!\n",
      "hello world!helloworld!helloworld!hello world!\n"
     ]
    }
   ],
   "source": [
    "def compress_string(string) :\n",
    "    comp_string = ''\n",
    "    count = 1\n",
    "    \n",
    "    for i in range(len(string) - 1 ) :\n",
    "        if string[i] == string[i + 1] :\n",
    "            count += 1\n",
    "        else:\n",
    "            comp_string += string[i]\n",
    "            if count > 1:\n",
    "                comp_string += str(count)\n",
    "                \n",
    "            count = 1\n",
    "            \n",
    "    comp_string += string[-1]\n",
    "    return comp_string\n",
    "\n",
    "string1 = compress_string(\"hello world!helloworld!helloworld!hello world!\")\n",
    "print(string1)\n",
    "def decompress_string(string) :\n",
    "    decomp_string = ''\n",
    "    \n",
    "    for i in range(len(string)) :\n",
    "        if string[i].isnumeric() :\n",
    "            decomp_string += string[i-1]\n",
    "        else:\n",
    "            decomp_string += string[i]\n",
    "    return decomp_string\n",
    "\n",
    "string2 = decompress_string(string1)\n",
    "print(string2)"
   ]
  },
  {
   "cell_type": "markdown",
   "id": "c3962bfb",
   "metadata": {},
   "source": [
    "### 6. Please write a binary search function which searches an item in a sorted list. The function should return the index of element to be searched in the list."
   ]
  },
  {
   "cell_type": "code",
   "execution_count": 44,
   "id": "c27d7023",
   "metadata": {},
   "outputs": [],
   "source": [
    "def search_index(input_list) :\n",
    "    search_item = input(\"Enter an item to search from list: \")\n",
    "    input_list.sort()\n",
    "    index = input_list.index(search_item)\n",
    "    return index"
   ]
  },
  {
   "cell_type": "code",
   "execution_count": 46,
   "id": "42f0aa6c",
   "metadata": {},
   "outputs": [
    {
     "name": "stdout",
     "output_type": "stream",
     "text": [
      "Enter an item to search from list: USA\n"
     ]
    },
    {
     "data": {
      "text/plain": [
       "5"
      ]
     },
     "execution_count": 46,
     "metadata": {},
     "output_type": "execute_result"
    }
   ],
   "source": [
    "search_index(['India', \"Nepal\", \"Sri Lanka\", \"USA\", \"UK\", \"Australia\"])"
   ]
  }
 ],
 "metadata": {
  "kernelspec": {
   "display_name": "Python 3 (ipykernel)",
   "language": "python",
   "name": "python3"
  },
  "language_info": {
   "codemirror_mode": {
    "name": "ipython",
    "version": 3
   },
   "file_extension": ".py",
   "mimetype": "text/x-python",
   "name": "python",
   "nbconvert_exporter": "python",
   "pygments_lexer": "ipython3",
   "version": "3.9.7"
  }
 },
 "nbformat": 4,
 "nbformat_minor": 5
}
