{
 "cells": [
  {
   "cell_type": "raw",
   "id": "e5a5296c",
   "metadata": {},
   "source": [
    "1. In the below elements which of them are values or an expression? eg:- values can be integer or string and expressions will be mathematical operators.\n",
    "Answer:\n",
    "\n",
    "* : expression\n",
    "\n",
    "'hello' : values\n",
    "\n",
    "-87.8 : values\n",
    "\n",
    "- : expression\n",
    "\n",
    "/ : expression\n",
    "+ : expression\n",
    "6 : values\n"
   ]
  },
  {
   "cell_type": "raw",
   "id": "15cb9d3a",
   "metadata": {},
   "source": [
    "2. What is the difference between string and variable?\n",
    "\n",
    "Answer:\n",
    "\n",
    "- string is ordered collection of characters in single, double or tripple quotes. \n",
    "- variables are containers for storing values like numbers, strings, lists, tuples etc."
   ]
  },
  {
   "cell_type": "code",
   "execution_count": 1,
   "id": "46d34e1a",
   "metadata": {},
   "outputs": [],
   "source": [
    "# e.g. \n",
    "a = 'Shivanand'\n",
    "# a : variable\n",
    "# 'Shivanand' : string"
   ]
  },
  {
   "cell_type": "raw",
   "id": "3e9bc51a",
   "metadata": {},
   "source": [
    "3. Describe three different data types.\n",
    "\n",
    "Answer:\n",
    "\n",
    "- Numerical: integer, float, complex\n",
    "- text: string\n",
    "- sequence: list, tuple, set, frozenset\n",
    "- collection: dictionary"
   ]
  },
  {
   "cell_type": "code",
   "execution_count": 3,
   "id": "e6559d7d",
   "metadata": {},
   "outputs": [
    {
     "data": {
      "text/plain": [
       "int"
      ]
     },
     "execution_count": 3,
     "metadata": {},
     "output_type": "execute_result"
    }
   ],
   "source": [
    "# - integer: 0 to 9, positive and negative whole numbers\n",
    "a = 9\n",
    "type(a)\n"
   ]
  },
  {
   "cell_type": "code",
   "execution_count": 4,
   "id": "0d71ecd9",
   "metadata": {},
   "outputs": [
    {
     "data": {
      "text/plain": [
       "float"
      ]
     },
     "execution_count": 4,
     "metadata": {},
     "output_type": "execute_result"
    }
   ],
   "source": [
    "# - float: all positive and negative numbers with decimal point\n",
    "b = -2.3\n",
    "type(b)"
   ]
  },
  {
   "cell_type": "code",
   "execution_count": 6,
   "id": "f03c6efe",
   "metadata": {},
   "outputs": [
    {
     "data": {
      "text/plain": [
       "complex"
      ]
     },
     "execution_count": 6,
     "metadata": {},
     "output_type": "execute_result"
    }
   ],
   "source": [
    "# - complex: numbers having real and imaginary part\n",
    "c = 1 + 3j\n",
    "type(c)"
   ]
  },
  {
   "cell_type": "code",
   "execution_count": 7,
   "id": "fd46b224",
   "metadata": {},
   "outputs": [
    {
     "data": {
      "text/plain": [
       "str"
      ]
     },
     "execution_count": 7,
     "metadata": {},
     "output_type": "execute_result"
    }
   ],
   "source": [
    "# string\n",
    "d = 'python'\n",
    "type(d)"
   ]
  },
  {
   "cell_type": "code",
   "execution_count": 9,
   "id": "5d9d8c86",
   "metadata": {},
   "outputs": [
    {
     "data": {
      "text/plain": [
       "list"
      ]
     },
     "execution_count": 9,
     "metadata": {},
     "output_type": "execute_result"
    }
   ],
   "source": [
    "# list\n",
    "lst = ['datascience',1,2.2,[3,4]]\n",
    "type(lst)"
   ]
  },
  {
   "cell_type": "code",
   "execution_count": 10,
   "id": "d54e2419",
   "metadata": {},
   "outputs": [
    {
     "data": {
      "text/plain": [
       "tuple"
      ]
     },
     "execution_count": 10,
     "metadata": {},
     "output_type": "execute_result"
    }
   ],
   "source": [
    "# tuple\n",
    "t = ('datascience',1,2.2,[3,4])\n",
    "type(t)"
   ]
  },
  {
   "cell_type": "code",
   "execution_count": 12,
   "id": "80228d98",
   "metadata": {},
   "outputs": [
    {
     "data": {
      "text/plain": [
       "set"
      ]
     },
     "execution_count": 12,
     "metadata": {},
     "output_type": "execute_result"
    }
   ],
   "source": [
    "# set\n",
    "s = {'datascience',1,2.2,3,4}\n",
    "type(s)"
   ]
  },
  {
   "cell_type": "code",
   "execution_count": 13,
   "id": "dfafee09",
   "metadata": {},
   "outputs": [
    {
     "data": {
      "text/plain": [
       "dict"
      ]
     },
     "execution_count": 13,
     "metadata": {},
     "output_type": "execute_result"
    }
   ],
   "source": [
    "# dictionary\n",
    "d = {'course':'datascience','duration':'12 months'}\n",
    "type(d)"
   ]
  },
  {
   "cell_type": "raw",
   "id": "d29e6e99",
   "metadata": {},
   "source": [
    "4. What is an expression made up of? What do all expressions do?\n",
    "\n",
    "Answer:\n",
    "\n",
    " expressions are values like *,-,+,/, >,<,= and, or, not"
   ]
  },
  {
   "cell_type": "raw",
   "id": "8eecd728",
   "metadata": {},
   "source": [
    "5. This assignment statements, like spam = 10. What is the difference between an expression and a statement?"
   ]
  },
  {
   "cell_type": "raw",
   "id": "8214f576",
   "metadata": {},
   "source": [
    "- statements do something and consists of expressions \n",
    "- spam = 10, is expression\n",
    "- print(spam) - this is statement"
   ]
  },
  {
   "cell_type": "raw",
   "id": "e09960c6",
   "metadata": {},
   "source": [
    "6. After running the following code, what does the variable bacon contain?\n",
    "bacon = 22\n",
    "bacon + 1\n",
    "\n",
    "Ans: 23"
   ]
  },
  {
   "cell_type": "raw",
   "id": "09e4a168",
   "metadata": {},
   "source": [
    "7. What should the values of the following two terms be?\n",
    "\n",
    "Ans: answer will be same for both\n",
    "    'spam' + 'spamspam' = 'spamspamspam'\n",
    "'spam' * 3 = 'spamspamspam'"
   ]
  },
  {
   "cell_type": "raw",
   "id": "97160b10",
   "metadata": {},
   "source": [
    "8. Why is eggs a valid variable name while 100 is invalid?\n",
    "\n",
    "Answer:\n",
    "As per rules of defining variables, \n",
    "- we cannot start variable with numbers \n",
    "- we can use any letters a-z, A-Z, so eggs is valid variable name"
   ]
  },
  {
   "cell_type": "raw",
   "id": "8413057a",
   "metadata": {},
   "source": [
    "9. What three functions can be used to get the integer, floating-point number, or string version of a value?"
   ]
  },
  {
   "cell_type": "code",
   "execution_count": 21,
   "id": "c514602a",
   "metadata": {},
   "outputs": [
    {
     "name": "stdout",
     "output_type": "stream",
     "text": [
      "integer of a is:  4\n",
      "string of a is:  4.5\n",
      "float of 4 is:  4.0\n"
     ]
    }
   ],
   "source": [
    "# we have to use type casting to get the integer, floating-point number, or string version of a value\n",
    "# e.g.\n",
    "a = 4.5\n",
    "print('integer of a is: ',int(a))\n",
    "print('string of a is: ',str(a))\n",
    "print('float of 4 is: ', float(4))"
   ]
  },
  {
   "cell_type": "raw",
   "id": "70356eb7",
   "metadata": {},
   "source": [
    "10. Why does this expression cause an error? How can you fix it?\n",
    "'I have eaten ' + 99 + ' burritos.'\n",
    "Answer: we can not concatenate string with integer"
   ]
  },
  {
   "cell_type": "code",
   "execution_count": 23,
   "id": "f926695b",
   "metadata": {},
   "outputs": [
    {
     "data": {
      "text/plain": [
       "'I have eaten 99 burritos.'"
      ]
     },
     "execution_count": 23,
     "metadata": {},
     "output_type": "execute_result"
    }
   ],
   "source": [
    "# to fix this we can use string of 99\n",
    "'I have eaten ' + str(99) + ' burritos.'"
   ]
  },
  {
   "cell_type": "code",
   "execution_count": null,
   "id": "a0804728",
   "metadata": {},
   "outputs": [],
   "source": []
  }
 ],
 "metadata": {
  "kernelspec": {
   "display_name": "Python 3 (ipykernel)",
   "language": "python",
   "name": "python3"
  },
  "language_info": {
   "codemirror_mode": {
    "name": "ipython",
    "version": 3
   },
   "file_extension": ".py",
   "mimetype": "text/x-python",
   "name": "python",
   "nbconvert_exporter": "python",
   "pygments_lexer": "ipython3",
   "version": "3.9.7"
  }
 },
 "nbformat": 4,
 "nbformat_minor": 5
}
