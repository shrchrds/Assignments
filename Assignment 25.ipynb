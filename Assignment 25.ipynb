{
 "cells": [
  {
   "cell_type": "code",
   "execution_count": null,
   "id": "c5e9f07e",
   "metadata": {},
   "outputs": [],
   "source": [
    "1) . What is the difference between enclosing a list comprehension in square brackets and parentheses?"
   ]
  },
  {
   "cell_type": "code",
   "execution_count": null,
   "id": "d75cc511",
   "metadata": {},
   "outputs": [],
   "source": [
    "Answer:\n",
    "    the output of list comprehension is list where as if we use parentheses we get output as generator \n",
    "    which can be used to generate output whenever required. It can be understood by example"
   ]
  },
  {
   "cell_type": "code",
   "execution_count": 5,
   "id": "8b999b14",
   "metadata": {},
   "outputs": [
    {
     "data": {
      "text/plain": [
       "generator"
      ]
     },
     "execution_count": 5,
     "metadata": {},
     "output_type": "execute_result"
    }
   ],
   "source": [
    "a = (i for i in range(10))\n",
    "\n",
    "type(a)"
   ]
  },
  {
   "cell_type": "code",
   "execution_count": 6,
   "id": "cd40b2ff",
   "metadata": {},
   "outputs": [
    {
     "data": {
      "text/plain": [
       "list"
      ]
     },
     "execution_count": 6,
     "metadata": {},
     "output_type": "execute_result"
    }
   ],
   "source": [
    "b = [i for i in range(10)]\n",
    "\n",
    "type(b)"
   ]
  },
  {
   "cell_type": "code",
   "execution_count": null,
   "id": "4361b873",
   "metadata": {},
   "outputs": [],
   "source": [
    "2) What is the relationship between generators and iterators?"
   ]
  },
  {
   "cell_type": "code",
   "execution_count": null,
   "id": "b42f8404",
   "metadata": {},
   "outputs": [],
   "source": [
    "iterator used to iterate over sequence like list, tuple, string\n",
    "iter() used to create iterator containing iterable object\n",
    "next() used to call next element in iterable object\n",
    "\n",
    "Generators:\n",
    "    using geneartors we can create iterators.\n",
    "yield() used instead of return while creating user defined function to create generator function\n",
    "generators produce data in iterable format without storing in memory"
   ]
  },
  {
   "cell_type": "code",
   "execution_count": null,
   "id": "80ff972b",
   "metadata": {},
   "outputs": [],
   "source": [
    "3) What are the signs that a function is a generator function?"
   ]
  },
  {
   "cell_type": "code",
   "execution_count": null,
   "id": "819b458f",
   "metadata": {},
   "outputs": [],
   "source": [
    "yield() used instead of return \n",
    "we get <generator object function_name at 0x000 > like message once we call generator function"
   ]
  },
  {
   "cell_type": "code",
   "execution_count": 7,
   "id": "90eccea4",
   "metadata": {},
   "outputs": [],
   "source": [
    "4) What is the purpose of a yield statement?"
   ]
  },
  {
   "cell_type": "code",
   "execution_count": 8,
   "id": "13111739",
   "metadata": {},
   "outputs": [
    {
     "data": {
      "text/plain": [
       "<generator object ghj at 0x000001EE56F0FD60>"
      ]
     },
     "execution_count": 8,
     "metadata": {},
     "output_type": "execute_result"
    }
   ],
   "source": [
    "yield function creates generator object which do not require memory\n",
    "using this generator object we can iterate the function and necessary result"
   ]
  },
  {
   "cell_type": "code",
   "execution_count": null,
   "id": "18067b1f",
   "metadata": {},
   "outputs": [],
   "source": [
    "5) What is the relationship between map calls and list comprehensions? \n",
    "Make a comparison and contrast between the two."
   ]
  },
  {
   "cell_type": "code",
   "execution_count": null,
   "id": "08c9e29d",
   "metadata": {},
   "outputs": [],
   "source": [
    "- map calls creates map object whereas list comprehensions gives output in list format\n",
    "- map function requires function and sequence,  list comprehensions donot require function to exectute\n",
    "- list comprehensions are short and easier to read than map calls\n",
    "- list comprehensions allow filtering using if condition, but filtering not available\n",
    "- list comprehensions used when result required in list format.\n",
    "- list comprehension is faster than map when we need to evaluate too long or complicated expressions\n",
    "- Map is faster in case of calling an already defined function (as no lambda is required)"
   ]
  }
 ],
 "metadata": {
  "kernelspec": {
   "display_name": "Python 3 (ipykernel)",
   "language": "python",
   "name": "python3"
  },
  "language_info": {
   "codemirror_mode": {
    "name": "ipython",
    "version": 3
   },
   "file_extension": ".py",
   "mimetype": "text/x-python",
   "name": "python",
   "nbconvert_exporter": "python",
   "pygments_lexer": "ipython3",
   "version": "3.9.7"
  }
 },
 "nbformat": 4,
 "nbformat_minor": 5
}
