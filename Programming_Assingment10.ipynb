{
 "cells": [
  {
   "cell_type": "code",
   "execution_count": null,
   "id": "2594fc4b",
   "metadata": {},
   "outputs": [],
   "source": [
    "1. Write a Python program to find sum of elements in list?"
   ]
  },
  {
   "cell_type": "code",
   "execution_count": 3,
   "id": "170a7a63",
   "metadata": {},
   "outputs": [
    {
     "data": {
      "text/plain": [
       "33"
      ]
     },
     "execution_count": 3,
     "metadata": {},
     "output_type": "execute_result"
    }
   ],
   "source": [
    "def summ(l):\n",
    "    for _ in l :\n",
    "        return sum(l)\n",
    "summ([2,5,7,9,10])"
   ]
  },
  {
   "cell_type": "code",
   "execution_count": null,
   "id": "c2f69cb1",
   "metadata": {},
   "outputs": [],
   "source": [
    "2. Write a Python program to  Multiply all numbers in the list?"
   ]
  },
  {
   "cell_type": "code",
   "execution_count": 5,
   "id": "26b42004",
   "metadata": {},
   "outputs": [
    {
     "data": {
      "text/plain": [
       "6300"
      ]
     },
     "execution_count": 5,
     "metadata": {},
     "output_type": "execute_result"
    }
   ],
   "source": [
    "def multiply(l) :\n",
    "    m = 1\n",
    "    for i in l :\n",
    "        m = m * i\n",
    "    return m\n",
    "multiply([2,5,7,9,10])"
   ]
  },
  {
   "cell_type": "code",
   "execution_count": null,
   "id": "366506ff",
   "metadata": {},
   "outputs": [],
   "source": [
    "3. Write a Python program to find smallest number in a list?"
   ]
  },
  {
   "cell_type": "code",
   "execution_count": 16,
   "id": "7fad9c6e",
   "metadata": {},
   "outputs": [],
   "source": [
    "def smallest(l):\n",
    "    for i in l:\n",
    "        return min(l)"
   ]
  },
  {
   "cell_type": "code",
   "execution_count": 17,
   "id": "e3e496db",
   "metadata": {},
   "outputs": [
    {
     "data": {
      "text/plain": [
       "2"
      ]
     },
     "execution_count": 17,
     "metadata": {},
     "output_type": "execute_result"
    }
   ],
   "source": [
    "smallest([2,5,7,9,10])"
   ]
  },
  {
   "cell_type": "code",
   "execution_count": null,
   "id": "082c3b3b",
   "metadata": {},
   "outputs": [],
   "source": [
    "4. Write a Python program to find largest number in a list?"
   ]
  },
  {
   "cell_type": "code",
   "execution_count": 18,
   "id": "2dc6bed9",
   "metadata": {},
   "outputs": [],
   "source": [
    "def largest(l):\n",
    "    for i in l:\n",
    "        return max(l)"
   ]
  },
  {
   "cell_type": "code",
   "execution_count": 19,
   "id": "e4bd6191",
   "metadata": {},
   "outputs": [
    {
     "data": {
      "text/plain": [
       "10"
      ]
     },
     "execution_count": 19,
     "metadata": {},
     "output_type": "execute_result"
    }
   ],
   "source": [
    "largest([2,5,7,9,10])"
   ]
  },
  {
   "cell_type": "code",
   "execution_count": null,
   "id": "ca974c74",
   "metadata": {},
   "outputs": [],
   "source": [
    "5. Write a Python program to find second largest number in a list?"
   ]
  },
  {
   "cell_type": "code",
   "execution_count": 20,
   "id": "f4f15815",
   "metadata": {},
   "outputs": [
    {
     "data": {
      "text/plain": [
       "9"
      ]
     },
     "execution_count": 20,
     "metadata": {},
     "output_type": "execute_result"
    }
   ],
   "source": [
    "def second_largest(l):\n",
    "    for i in sorted(l):\n",
    "        return l[-2]\n",
    "second_largest([2,5,7,9,10])"
   ]
  },
  {
   "cell_type": "code",
   "execution_count": null,
   "id": "f16ecaed",
   "metadata": {},
   "outputs": [],
   "source": [
    "6. Write a Python program to find N largest elements from a list?"
   ]
  },
  {
   "cell_type": "code",
   "execution_count": 22,
   "id": "d1dbf1b0",
   "metadata": {},
   "outputs": [
    {
     "name": "stdout",
     "output_type": "stream",
     "text": [
      "Enter a number to find largest elements from list: 3\n"
     ]
    },
    {
     "data": {
      "text/plain": [
       "7"
      ]
     },
     "execution_count": 22,
     "metadata": {},
     "output_type": "execute_result"
    }
   ],
   "source": [
    "def nth_largest(l):\n",
    "    n = int(input(\"Enter a number to find largest elements from list: \"))\n",
    "    for i in sorted(l):\n",
    "        return l[-n]\n",
    "nth_largest([2,5,7,9,10])"
   ]
  },
  {
   "cell_type": "code",
   "execution_count": null,
   "id": "8513817d",
   "metadata": {},
   "outputs": [],
   "source": [
    "7. Write a Python program to print even numbers in a list?"
   ]
  },
  {
   "cell_type": "code",
   "execution_count": 28,
   "id": "919db8c8",
   "metadata": {},
   "outputs": [
    {
     "name": "stdout",
     "output_type": "stream",
     "text": [
      "2\n",
      "10\n"
     ]
    }
   ],
   "source": [
    "def even_num(l):\n",
    "    for i in l:\n",
    "        if i %2 == 0:\n",
    "            print(i)\n",
    "even_num([2,5,7,9,10])"
   ]
  },
  {
   "cell_type": "code",
   "execution_count": null,
   "id": "d43f21f7",
   "metadata": {},
   "outputs": [],
   "source": [
    "8. Write a Python program to print odd numbers in a List?"
   ]
  },
  {
   "cell_type": "code",
   "execution_count": 30,
   "id": "16389668",
   "metadata": {},
   "outputs": [
    {
     "name": "stdout",
     "output_type": "stream",
     "text": [
      "5\n",
      "7\n",
      "9\n"
     ]
    }
   ],
   "source": [
    "def odd_num(l):\n",
    "    even = []\n",
    "    for i in l:\n",
    "        if i %2 == 1:\n",
    "            print(i)\n",
    "odd_num([2,5,7,9,10])"
   ]
  },
  {
   "cell_type": "code",
   "execution_count": null,
   "id": "5dfc071c",
   "metadata": {},
   "outputs": [],
   "source": [
    "9. Write a Python program to Remove empty List from List?"
   ]
  },
  {
   "cell_type": "code",
   "execution_count": 34,
   "id": "fb10d0c1",
   "metadata": {},
   "outputs": [
    {
     "data": {
      "text/plain": [
       "[2, [5, 7], [9, 10]]"
      ]
     },
     "execution_count": 34,
     "metadata": {},
     "output_type": "execute_result"
    }
   ],
   "source": [
    "def remove_empty_list(l):\n",
    "    for i in range(len(l)):\n",
    "        if type(l[i]) == list and len(l[i]) == 0:\n",
    "            l.pop(i)\n",
    "    return l\n",
    "remove_empty_list([2,[5,7],[9,10],[]])"
   ]
  },
  {
   "cell_type": "code",
   "execution_count": null,
   "id": "13545097",
   "metadata": {},
   "outputs": [],
   "source": [
    "10. Write a Python program to Cloning or Copying a list?"
   ]
  },
  {
   "cell_type": "code",
   "execution_count": 39,
   "id": "9592cf84",
   "metadata": {},
   "outputs": [
    {
     "data": {
      "text/plain": [
       "[1, 2, 3, [2, [5, 7], [9, 10], []]]"
      ]
     },
     "execution_count": 39,
     "metadata": {},
     "output_type": "execute_result"
    }
   ],
   "source": [
    "def clone_list(l):\n",
    "    clone_list = []\n",
    "    clone_list.extend(l)\n",
    "    return clone_list\n",
    "\n",
    "clone_list([1,2,3, [2,[5,7],[9,10],[]]])"
   ]
  },
  {
   "cell_type": "code",
   "execution_count": null,
   "id": "ad4801fa",
   "metadata": {},
   "outputs": [],
   "source": [
    "11. Write a Python program to Count occurrences of an element in a list?"
   ]
  },
  {
   "cell_type": "code",
   "execution_count": 45,
   "id": "2ec29b7d",
   "metadata": {},
   "outputs": [],
   "source": [
    "def count_occurrence(l):\n",
    "    d = {}\n",
    "    for i in l:\n",
    "        d.update({i:l.count(i)})\n",
    "    return d"
   ]
  },
  {
   "cell_type": "code",
   "execution_count": 47,
   "id": "a8598c83",
   "metadata": {},
   "outputs": [
    {
     "data": {
      "text/plain": [
       "{1: 2, 2: 3, 3: 3, 5: 3, 7: 2, 9: 2, 10: 2, 4: 2, 6: 2, 8: 1}"
      ]
     },
     "execution_count": 47,
     "metadata": {},
     "output_type": "execute_result"
    }
   ],
   "source": [
    "count_occurrence([1, 2, 3, 2, 5, 7, 9, 10,1,2,3,4,5,6,3,4,5,6,7,8,9,10])"
   ]
  },
  {
   "cell_type": "code",
   "execution_count": null,
   "id": "670db78d",
   "metadata": {},
   "outputs": [],
   "source": []
  }
 ],
 "metadata": {
  "kernelspec": {
   "display_name": "Python 3 (ipykernel)",
   "language": "python",
   "name": "python3"
  },
  "language_info": {
   "codemirror_mode": {
    "name": "ipython",
    "version": 3
   },
   "file_extension": ".py",
   "mimetype": "text/x-python",
   "name": "python",
   "nbconvert_exporter": "python",
   "pygments_lexer": "ipython3",
   "version": "3.9.7"
  }
 },
 "nbformat": 4,
 "nbformat_minor": 5
}
