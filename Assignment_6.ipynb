{
 "cells": [
  {
   "cell_type": "code",
   "execution_count": null,
   "id": "2f23ee82",
   "metadata": {},
   "outputs": [],
   "source": [
    "1. What are escape characters, and how do you use them?"
   ]
  },
  {
   "cell_type": "code",
   "execution_count": null,
   "id": "8e8835f8",
   "metadata": {},
   "outputs": [],
   "source": [
    "Ans: \n",
    "'\\' is called as escape character in Python.\n",
    "used to skip running code. It will be clear from answer of question 2 & 3."
   ]
  },
  {
   "cell_type": "code",
   "execution_count": null,
   "id": "b9ee6c34",
   "metadata": {},
   "outputs": [],
   "source": []
  },
  {
   "cell_type": "code",
   "execution_count": null,
   "id": "6996d0cb",
   "metadata": {},
   "outputs": [],
   "source": [
    "2. What do the escape characters n and t stand for?"
   ]
  },
  {
   "cell_type": "code",
   "execution_count": 5,
   "id": "2675909b",
   "metadata": {
    "scrolled": true
   },
   "outputs": [
    {
     "name": "stdout",
     "output_type": "stream",
     "text": [
      "Python with Data Science\n",
      "Machine Learning\n"
     ]
    }
   ],
   "source": [
    "# \\n used to go to new line\n",
    "print('Python with Data Science\\nMachine Learning')"
   ]
  },
  {
   "cell_type": "code",
   "execution_count": 4,
   "id": "d2063b65",
   "metadata": {},
   "outputs": [
    {
     "name": "stdout",
     "output_type": "stream",
     "text": [
      "Python with Data Science\tMachine Learning\n"
     ]
    }
   ],
   "source": [
    "# \\t is used to give tab while printing statement\n",
    "print('Python with Data Science\\tMachine Learning')"
   ]
  },
  {
   "cell_type": "code",
   "execution_count": null,
   "id": "dba9f6e1",
   "metadata": {},
   "outputs": [],
   "source": [
    "3. What is the way to include backslash characters in a string?"
   ]
  },
  {
   "cell_type": "code",
   "execution_count": 1,
   "id": "3ae85a13",
   "metadata": {},
   "outputs": [
    {
     "ename": "SyntaxError",
     "evalue": "invalid syntax (Temp/ipykernel_4340/1854982285.py, line 1)",
     "output_type": "error",
     "traceback": [
      "\u001b[1;36m  File \u001b[1;32m\"C:\\Users\\pc\\AppData\\Local\\Temp/ipykernel_4340/1854982285.py\"\u001b[1;36m, line \u001b[1;32m1\u001b[0m\n\u001b[1;33m    print('It's raining)\u001b[0m\n\u001b[1;37m              ^\u001b[0m\n\u001b[1;31mSyntaxError\u001b[0m\u001b[1;31m:\u001b[0m invalid syntax\n"
     ]
    }
   ],
   "source": [
    "print('It's raining')"
   ]
  },
  {
   "cell_type": "code",
   "execution_count": 3,
   "id": "367e64ac",
   "metadata": {},
   "outputs": [
    {
     "name": "stdout",
     "output_type": "stream",
     "text": [
      "It's raining\n"
     ]
    }
   ],
   "source": [
    "print('It\\'s raining')"
   ]
  },
  {
   "cell_type": "code",
   "execution_count": null,
   "id": "dee426d6",
   "metadata": {},
   "outputs": [],
   "source": [
    "4. The string \"Howl's Moving Castle\" is a correct value. Why isn't the single quote character in the word Howl's not escaped a problem?"
   ]
  },
  {
   "cell_type": "code",
   "execution_count": null,
   "id": "735c295a",
   "metadata": {},
   "outputs": [],
   "source": [
    "the single quote character in the word Howl's not escaped a problem because it is included in \"\""
   ]
  },
  {
   "cell_type": "code",
   "execution_count": null,
   "id": "782ec8cc",
   "metadata": {},
   "outputs": [],
   "source": [
    "5. How do you write a string of newlines if you don't want to use the n character?"
   ]
  },
  {
   "cell_type": "code",
   "execution_count": 6,
   "id": "20b8426c",
   "metadata": {},
   "outputs": [
    {
     "name": "stdout",
     "output_type": "stream",
     "text": [
      "P\n",
      "y\n",
      "t\n",
      "h\n",
      "o\n",
      "n\n"
     ]
    }
   ],
   "source": [
    "# using for loop we can write a string of newlines without using \\n character\n",
    "for i in \"Python\":\n",
    "    print(i)\n"
   ]
  },
  {
   "cell_type": "code",
   "execution_count": null,
   "id": "b1235b74",
   "metadata": {},
   "outputs": [],
   "source": [
    "6. What are the values of the given expressions?\n",
    "'Hello, world!'[1] --> 'e'\n",
    "'Hello, world!'[0:5] --> 'Hello'\n",
    "'Hello, world!'[:5] --> 'Hello'\n",
    "'Hello, world!'[3:] --> 'lo, world!'"
   ]
  },
  {
   "cell_type": "code",
   "execution_count": null,
   "id": "9787c8d0",
   "metadata": {},
   "outputs": [],
   "source": [
    "7. What are the values of the following expressions?\n",
    "'Hello'.upper() --> 'HELLO'\n",
    "'Hello'.upper().isupper() --> True\n",
    "'Hello'.upper().lower() --> 'hello'\n"
   ]
  },
  {
   "cell_type": "code",
   "execution_count": null,
   "id": "922ca531",
   "metadata": {},
   "outputs": [],
   "source": [
    "8. What are the values of the following expressions?\n",
    "'Remember, remember, the fifth of July.'.split()\n",
    "'-'.join('There can only one.'.split()) --> 'There-can-only-one.' "
   ]
  },
  {
   "cell_type": "code",
   "execution_count": null,
   "id": "52b76228",
   "metadata": {},
   "outputs": [],
   "source": [
    "9. What are the methods for right-justifying, left-justifying, and centering a string?"
   ]
  },
  {
   "cell_type": "code",
   "execution_count": 17,
   "id": "007e4469",
   "metadata": {},
   "outputs": [
    {
     "data": {
      "text/plain": [
       "'python'"
      ]
     },
     "execution_count": 17,
     "metadata": {},
     "output_type": "execute_result"
    }
   ],
   "source": [
    "# we can do right-justifying using rjust function\n",
    "'python'.rjust(1)"
   ]
  },
  {
   "cell_type": "code",
   "execution_count": 19,
   "id": "c6eb4bd4",
   "metadata": {},
   "outputs": [
    {
     "data": {
      "text/plain": [
       "'python'"
      ]
     },
     "execution_count": 19,
     "metadata": {},
     "output_type": "execute_result"
    }
   ],
   "source": [
    "# we can do left-justifying using ljust function\n",
    "'python'.ljust(1)"
   ]
  },
  {
   "cell_type": "code",
   "execution_count": 21,
   "id": "25123aec",
   "metadata": {},
   "outputs": [
    {
     "data": {
      "text/plain": [
       "'  python  '"
      ]
     },
     "execution_count": 21,
     "metadata": {},
     "output_type": "execute_result"
    }
   ],
   "source": [
    "# we can do centering a string using center function\n",
    "'python'.center(10)"
   ]
  },
  {
   "cell_type": "code",
   "execution_count": null,
   "id": "4942a935",
   "metadata": {},
   "outputs": [],
   "source": [
    "10. What is the best way to remove whitespace characters from the start or end?"
   ]
  },
  {
   "cell_type": "code",
   "execution_count": 23,
   "id": "142e3943",
   "metadata": {},
   "outputs": [
    {
     "data": {
      "text/plain": [
       "'Hare Krishna'"
      ]
     },
     "execution_count": 23,
     "metadata": {},
     "output_type": "execute_result"
    }
   ],
   "source": [
    "# by using strip function\n",
    "s = '    Hare Krishna       '\n",
    "s.strip()"
   ]
  },
  {
   "cell_type": "code",
   "execution_count": null,
   "id": "22bf7b13",
   "metadata": {},
   "outputs": [],
   "source": []
  }
 ],
 "metadata": {
  "kernelspec": {
   "display_name": "Python 3 (ipykernel)",
   "language": "python",
   "name": "python3"
  },
  "language_info": {
   "codemirror_mode": {
    "name": "ipython",
    "version": 3
   },
   "file_extension": ".py",
   "mimetype": "text/x-python",
   "name": "python",
   "nbconvert_exporter": "python",
   "pygments_lexer": "ipython3",
   "version": "3.9.7"
  }
 },
 "nbformat": 4,
 "nbformat_minor": 5
}
