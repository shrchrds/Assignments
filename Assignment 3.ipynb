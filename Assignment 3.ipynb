{
 "cells": [
  {
   "cell_type": "code",
   "execution_count": null,
   "id": "5ee68e7b",
   "metadata": {},
   "outputs": [],
   "source": [
    "1. Why are functions advantageous to have in your programs?"
   ]
  },
  {
   "cell_type": "code",
   "execution_count": null,
   "id": "e91f68df",
   "metadata": {},
   "outputs": [],
   "source": [
    "Ans: \n",
    "- functions gives freedom to reuse the code for us as well as others.\n",
    "- functions saves time as we do not need to write the code again againb"
   ]
  },
  {
   "cell_type": "code",
   "execution_count": null,
   "id": "e05ab9ea",
   "metadata": {},
   "outputs": [],
   "source": [
    "2. When does the code in a function run: when it's specified or when it's called?"
   ]
  },
  {
   "cell_type": "code",
   "execution_count": null,
   "id": "76854477",
   "metadata": {},
   "outputs": [],
   "source": [
    "Ans: \n",
    "    code in a function run when it's called"
   ]
  },
  {
   "cell_type": "code",
   "execution_count": null,
   "id": "f856c636",
   "metadata": {},
   "outputs": [],
   "source": [
    "3. What statement creates a function?"
   ]
  },
  {
   "cell_type": "code",
   "execution_count": 1,
   "id": "ffef4547",
   "metadata": {},
   "outputs": [],
   "source": [
    "Ans: \n",
    "def function_name() :\n",
    "    pass\n",
    "    # body of code\n",
    "\n",
    "function_name()"
   ]
  },
  {
   "cell_type": "code",
   "execution_count": null,
   "id": "06a859b0",
   "metadata": {},
   "outputs": [],
   "source": [
    "4. What is the difference between a function and a function call?"
   ]
  },
  {
   "cell_type": "code",
   "execution_count": null,
   "id": "1104a934",
   "metadata": {},
   "outputs": [],
   "source": [
    "Ans: \n",
    "function is defined first\n",
    "function call : used to call a function meaning we can reuse already written function"
   ]
  },
  {
   "cell_type": "code",
   "execution_count": null,
   "id": "0a4b4665",
   "metadata": {},
   "outputs": [],
   "source": [
    "5. How many global scopes are there in a Python program? How many local scopes?"
   ]
  },
  {
   "cell_type": "code",
   "execution_count": null,
   "id": "7b81383f",
   "metadata": {},
   "outputs": [],
   "source": [
    "Ans: \n",
    "There is only one global scope for python program\n",
    "There will be many local scopes for python program equal to function call. \n",
    "The number of times function is called, same number of times local scope will be created"
   ]
  },
  {
   "cell_type": "code",
   "execution_count": null,
   "id": "7ac84040",
   "metadata": {},
   "outputs": [],
   "source": [
    "6. What happens to variables in a local scope when the function call returns?"
   ]
  },
  {
   "cell_type": "code",
   "execution_count": null,
   "id": "a6fa481e",
   "metadata": {},
   "outputs": [],
   "source": [
    "Ans: \n",
    "The number of times function is called, same number of times local scope will be created"
   ]
  },
  {
   "cell_type": "code",
   "execution_count": null,
   "id": "5f2b9094",
   "metadata": {},
   "outputs": [],
   "source": [
    "7. What is the concept of a return value? Is it possible to have a return value in an expression?"
   ]
  },
  {
   "cell_type": "code",
   "execution_count": null,
   "id": "73317669",
   "metadata": {},
   "outputs": [],
   "source": [
    "Ans: \n",
    "- return statement is used to end current function execution  \n",
    "- It gives final output of function in same format not like print statement which gives none type\n",
    "- any statements after return statement will not be executed\n",
    "- return function can be used only inside the function\n",
    "\n",
    "- Yes it is possible to have a return value in an expression"
   ]
  },
  {
   "cell_type": "code",
   "execution_count": 10,
   "id": "7e4fdc1e",
   "metadata": {},
   "outputs": [
    {
     "data": {
      "text/plain": [
       "[0, 2, 4]"
      ]
     },
     "execution_count": 10,
     "metadata": {},
     "output_type": "execute_result"
    }
   ],
   "source": [
    "e.g. here expression can be passed to get return value which is even in this case\n",
    "def addition(n):\n",
    "    return [i for i in n if i % 2 == 0]\n",
    "addition(list(range(6)))"
   ]
  },
  {
   "cell_type": "code",
   "execution_count": null,
   "id": "3f14e5d9",
   "metadata": {},
   "outputs": [],
   "source": [
    "8. If a function does not have a return statement, what is the return value of a call to that function?"
   ]
  },
  {
   "cell_type": "code",
   "execution_count": null,
   "id": "4bf91dcf",
   "metadata": {},
   "outputs": [],
   "source": [
    "Ans: \n",
    "    There will not be any return value if we do not give return statement as shown below"
   ]
  },
  {
   "cell_type": "code",
   "execution_count": 11,
   "id": "727d2146",
   "metadata": {},
   "outputs": [],
   "source": [
    "def sub(*args):\n",
    "    sum(args)"
   ]
  },
  {
   "cell_type": "code",
   "execution_count": null,
   "id": "2e31e0ef",
   "metadata": {},
   "outputs": [],
   "source": [
    "9. How do you make a function variable refer to the global variable?"
   ]
  },
  {
   "cell_type": "code",
   "execution_count": null,
   "id": "bf637430",
   "metadata": {},
   "outputs": [],
   "source": [
    "we have to declare function variable using \"global\" keyword as below"
   ]
  },
  {
   "cell_type": "code",
   "execution_count": 24,
   "id": "0ee0df08",
   "metadata": {},
   "outputs": [
    {
     "data": {
      "text/plain": [
       "12"
      ]
     },
     "execution_count": 24,
     "metadata": {},
     "output_type": "execute_result"
    }
   ],
   "source": [
    "a = 10\n",
    "def sub():\n",
    "    \n",
    "    global a\n",
    "    a = 12\n",
    "    return a\n",
    "sub()"
   ]
  },
  {
   "cell_type": "code",
   "execution_count": null,
   "id": "3f501806",
   "metadata": {},
   "outputs": [],
   "source": [
    "10. What is the data type of None?"
   ]
  },
  {
   "cell_type": "code",
   "execution_count": 25,
   "id": "e6fb2242",
   "metadata": {},
   "outputs": [
    {
     "data": {
      "text/plain": [
       "NoneType"
      ]
     },
     "execution_count": 25,
     "metadata": {},
     "output_type": "execute_result"
    }
   ],
   "source": [
    "data type of None is NoneType\n",
    "type(None)"
   ]
  },
  {
   "cell_type": "code",
   "execution_count": null,
   "id": "178a70a1",
   "metadata": {},
   "outputs": [],
   "source": [
    "11. What does the sentence import areallyourpetsnamederic do?"
   ]
  },
  {
   "cell_type": "code",
   "execution_count": null,
   "id": "4535850a",
   "metadata": {},
   "outputs": [],
   "source": [
    "It tries to import module \"areallyourpetsnamederic\""
   ]
  },
  {
   "cell_type": "code",
   "execution_count": null,
   "id": "8df6fc2e",
   "metadata": {},
   "outputs": [],
   "source": [
    "12. If you had a bacon() feature in a spam module, what would you call it after importing spam?"
   ]
  },
  {
   "cell_type": "code",
   "execution_count": null,
   "id": "229f804d",
   "metadata": {},
   "outputs": [],
   "source": [
    "spam.bacon()"
   ]
  },
  {
   "cell_type": "code",
   "execution_count": null,
   "id": "36907cf5",
   "metadata": {},
   "outputs": [],
   "source": [
    "13. What can you do to save a programme from crashing if it encounters an error?"
   ]
  },
  {
   "cell_type": "code",
   "execution_count": null,
   "id": "788883ed",
   "metadata": {},
   "outputs": [],
   "source": [
    "we can use exception handling"
   ]
  },
  {
   "cell_type": "code",
   "execution_count": null,
   "id": "e278ef83",
   "metadata": {},
   "outputs": [],
   "source": [
    "14. What is the purpose of the try clause? What is the purpose of the except clause?"
   ]
  },
  {
   "cell_type": "code",
   "execution_count": null,
   "id": "338ee2dd",
   "metadata": {},
   "outputs": [],
   "source": [
    "try is used to check block of code \n",
    "except is to handle the error in block of code"
   ]
  }
 ],
 "metadata": {
  "kernelspec": {
   "display_name": "Python 3 (ipykernel)",
   "language": "python",
   "name": "python3"
  },
  "language_info": {
   "codemirror_mode": {
    "name": "ipython",
    "version": 3
   },
   "file_extension": ".py",
   "mimetype": "text/x-python",
   "name": "python",
   "nbconvert_exporter": "python",
   "pygments_lexer": "ipython3",
   "version": "3.9.7"
  }
 },
 "nbformat": 4,
 "nbformat_minor": 5
}
