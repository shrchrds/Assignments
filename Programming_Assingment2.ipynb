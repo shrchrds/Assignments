{
 "cells": [
  {
   "cell_type": "code",
   "execution_count": null,
   "id": "dd9e112f",
   "metadata": {},
   "outputs": [],
   "source": [
    "1. Write a Python program to convert kilometers to miles?"
   ]
  },
  {
   "cell_type": "code",
   "execution_count": 3,
   "id": "c4cb5534",
   "metadata": {},
   "outputs": [
    {
     "name": "stdout",
     "output_type": "stream",
     "text": [
      "Enter a length in km: 3\n",
      "Length in miles:  1.875\n"
     ]
    }
   ],
   "source": [
    "l = int(input('Enter a length in km: '))\n",
    "m = l/1.6\n",
    "print(\"Length in miles: \",m)"
   ]
  },
  {
   "cell_type": "code",
   "execution_count": null,
   "id": "f7f4116f",
   "metadata": {},
   "outputs": [],
   "source": [
    "2. Write a Python program to convert Celsius to Fahrenheit?"
   ]
  },
  {
   "cell_type": "code",
   "execution_count": 4,
   "id": "69dc55fa",
   "metadata": {},
   "outputs": [
    {
     "name": "stdout",
     "output_type": "stream",
     "text": [
      "Enter a temperature in Celsius: 0\n",
      "temperature in Fahrenheit:  32.0\n"
     ]
    }
   ],
   "source": [
    "c = int(input('Enter a temperature in Celsius: '))\n",
    "f = c*9/5 + 32\n",
    "print(\"temperature in Fahrenheit: \",f)"
   ]
  },
  {
   "cell_type": "code",
   "execution_count": null,
   "id": "5b4b428d",
   "metadata": {},
   "outputs": [],
   "source": [
    "3. Write a Python program to display calendar?"
   ]
  },
  {
   "cell_type": "code",
   "execution_count": 5,
   "id": "a825f9bb",
   "metadata": {},
   "outputs": [
    {
     "name": "stdout",
     "output_type": "stream",
     "text": [
      "     July 2022\n",
      "Mo Tu We Th Fr Sa Su\n",
      "             1  2  3\n",
      " 4  5  6  7  8  9 10\n",
      "11 12 13 14 15 16 17\n",
      "18 19 20 21 22 23 24\n",
      "25 26 27 28 29 30 31\n",
      "\n"
     ]
    }
   ],
   "source": [
    "import calendar\n",
    "year = 2022\n",
    "month = 7\n",
    "print(calendar.month(year, month))"
   ]
  },
  {
   "cell_type": "code",
   "execution_count": null,
   "id": "31ed023c",
   "metadata": {},
   "outputs": [],
   "source": [
    "4. Write a Python program to solve quadratic equation?"
   ]
  },
  {
   "cell_type": "code",
   "execution_count": 7,
   "id": "ba342be8",
   "metadata": {},
   "outputs": [
    {
     "name": "stdout",
     "output_type": "stream",
     "text": [
      "The solutions of given given quadratic equation are \n",
      "-1.7071067811865475 and -0.2928932188134524\n"
     ]
    }
   ],
   "source": [
    "a = 2\n",
    "b = 4\n",
    "c = 1\n",
    "\n",
    "s = (b**2) - (4*a*c)\n",
    "\n",
    "r1 = (- b - s ** .5) / (2 * a)\n",
    "r2 = (-b + s ** .5)/(2 * a)\n",
    "\n",
    "print(f'The solutions of given given quadratic equation are \\n{r1} and {r2}')"
   ]
  },
  {
   "cell_type": "code",
   "execution_count": null,
   "id": "0f394930",
   "metadata": {},
   "outputs": [],
   "source": [
    "5. Write a Python program to swap two variables without temp variable?"
   ]
  },
  {
   "cell_type": "code",
   "execution_count": 10,
   "id": "61c6c034",
   "metadata": {},
   "outputs": [
    {
     "name": "stdout",
     "output_type": "stream",
     "text": [
      "Updated values after swapping for a is 4 and b is 3 \n"
     ]
    }
   ],
   "source": [
    "a = 3\n",
    "b = 4\n",
    "\n",
    "a, b = b, a\n",
    "\n",
    "print(f'Updated values after swapping for a is {a} and b is {b} ')"
   ]
  },
  {
   "cell_type": "code",
   "execution_count": null,
   "id": "31355eef",
   "metadata": {},
   "outputs": [],
   "source": []
  }
 ],
 "metadata": {
  "kernelspec": {
   "display_name": "Python 3 (ipykernel)",
   "language": "python",
   "name": "python3"
  },
  "language_info": {
   "codemirror_mode": {
    "name": "ipython",
    "version": 3
   },
   "file_extension": ".py",
   "mimetype": "text/x-python",
   "name": "python",
   "nbconvert_exporter": "python",
   "pygments_lexer": "ipython3",
   "version": "3.9.7"
  }
 },
 "nbformat": 4,
 "nbformat_minor": 5
}
