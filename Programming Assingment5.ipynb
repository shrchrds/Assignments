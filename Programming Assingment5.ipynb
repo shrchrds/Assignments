{
 "cells": [
  {
   "cell_type": "code",
   "execution_count": null,
   "id": "7d70c4e8",
   "metadata": {},
   "outputs": [],
   "source": [
    "1. Write a Python Program to Find LCM?"
   ]
  },
  {
   "cell_type": "code",
   "execution_count": 1,
   "id": "516af351",
   "metadata": {},
   "outputs": [],
   "source": [
    "def lcm(n1,n2):\n",
    "    if n1 > n2 :\n",
    "        greater = n1\n",
    "    else:\n",
    "        greater = n2\n",
    "    while True:\n",
    "        if (greater % n1 == 0) and (greater % n2 == 0 ):\n",
    "            LCM = greater\n",
    "            break\n",
    "        greater += 1\n",
    "    return LCM\n",
    "\n",
    "lcm(15,71)"
   ]
  },
  {
   "cell_type": "code",
   "execution_count": null,
   "id": "89d38c25",
   "metadata": {},
   "outputs": [],
   "source": [
    "2. Write a Python Program to Find HCF?"
   ]
  },
  {
   "cell_type": "code",
   "execution_count": 13,
   "id": "7924603d",
   "metadata": {},
   "outputs": [
    {
     "data": {
      "text/plain": [
       "3"
      ]
     },
     "execution_count": 13,
     "metadata": {},
     "output_type": "execute_result"
    }
   ],
   "source": [
    "def hcf(n1,n2):\n",
    "    if n1 > n2:\n",
    "        smaller = n2\n",
    "    else:\n",
    "        smaller = n1\n",
    "    \n",
    "    for i in range(1, smaller + 1):\n",
    "        if (n1 % i == 0) and (n2 % i ==0):\n",
    "            HCF = i\n",
    "    return HCF\n",
    "hcf(15,12)"
   ]
  },
  {
   "cell_type": "code",
   "execution_count": null,
   "id": "b9e11378",
   "metadata": {},
   "outputs": [],
   "source": [
    "3. Write a Python Program to Convert Decimal to Binary, Octal and Hexadecimal?"
   ]
  },
  {
   "cell_type": "code",
   "execution_count": 17,
   "id": "c36e8952",
   "metadata": {},
   "outputs": [
    {
     "name": "stdout",
     "output_type": "stream",
     "text": [
      "Enter a number to convert Decimal to Binary, Octal and Hexadecimal3\n",
      "Decimal to Binary:  0b11\n",
      "Decimal to Octal:  0o3\n",
      "Decimal to Hexadeciaml:  0x3\n"
     ]
    }
   ],
   "source": [
    "n = int(input(\"Enter a number to convert Decimal to Binary, Octal and Hexadecimal\"))\n",
    "\n",
    "print(\"Decimal to Binary: \", bin(n))\n",
    "print(\"Decimal to Octal: \", oct(n))\n",
    "print(\"Decimal to Hexadeciaml: \", hex(n))"
   ]
  },
  {
   "cell_type": "code",
   "execution_count": null,
   "id": "c07e96e7",
   "metadata": {},
   "outputs": [],
   "source": [
    "4. Write a Python Program To Find ASCII value of a character?"
   ]
  },
  {
   "cell_type": "code",
   "execution_count": 22,
   "id": "f9e735ac",
   "metadata": {},
   "outputs": [
    {
     "name": "stdout",
     "output_type": "stream",
     "text": [
      "Enter a character to  Find ASCII value: z\n",
      "122\n"
     ]
    }
   ],
   "source": [
    "c = input(\"Enter a character to  Find ASCII value: \")\n",
    "print(ord(c))"
   ]
  },
  {
   "cell_type": "code",
   "execution_count": null,
   "id": "22748c72",
   "metadata": {},
   "outputs": [],
   "source": [
    "5. Write a Python Program to Make a Simple Calculator with 4 basic mathematical operations?"
   ]
  },
  {
   "cell_type": "code",
   "execution_count": 27,
   "id": "bc34d2ce",
   "metadata": {},
   "outputs": [
    {
     "name": "stdout",
     "output_type": "stream",
     "text": [
      "Enter a number 1: 3\n",
      "Enter a number 2: 5\n",
      "Enter 'a' for addition, 's' for substraction, 'm' for multiplication and 'd' for division: m\n",
      "Multiplication of 3 and 5 is 15\n"
     ]
    }
   ],
   "source": [
    "def calculator():\n",
    "    a = int(input(\"Enter a number 1: \"))\n",
    "    b = int(input(\"Enter a number 2: \"))\n",
    "    inp = input(\"Enter 'a' for addition, 's' for substraction, 'm' for multiplication and 'd' for division: \")\n",
    "    if inp == 'a':\n",
    "        print(f\"Addition of {a} and {b} is {a+b}\")\n",
    "    if inp == 's':\n",
    "        print(f\"Substraction of {a} and {b} is {a-b}\")\n",
    "    if inp == 'm':\n",
    "        print(f\"Multiplication of {a} and {b} is {a*b}\")\n",
    "    if inp == 'd':\n",
    "        print(f\"Division of {a} and {b} is {a/b}\")\n",
    "calculator()"
   ]
  },
  {
   "cell_type": "code",
   "execution_count": null,
   "id": "17ba098f",
   "metadata": {},
   "outputs": [],
   "source": []
  }
 ],
 "metadata": {
  "kernelspec": {
   "display_name": "Python 3 (ipykernel)",
   "language": "python",
   "name": "python3"
  },
  "language_info": {
   "codemirror_mode": {
    "name": "ipython",
    "version": 3
   },
   "file_extension": ".py",
   "mimetype": "text/x-python",
   "name": "python",
   "nbconvert_exporter": "python",
   "pygments_lexer": "ipython3",
   "version": "3.9.7"
  }
 },
 "nbformat": 4,
 "nbformat_minor": 5
}
