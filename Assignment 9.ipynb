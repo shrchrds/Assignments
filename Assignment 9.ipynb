{
 "cells": [
  {
   "cell_type": "markdown",
   "id": "c07b0eac",
   "metadata": {},
   "source": [
    "### 1. To what does a relative path refer?"
   ]
  },
  {
   "cell_type": "code",
   "execution_count": 1,
   "id": "2e7c3cc4",
   "metadata": {},
   "outputs": [
    {
     "data": {
      "text/plain": [
       "'C:\\\\Users\\\\pc\\\\Downloads\\\\Python Course\\\\Ineuron\\\\Python\\\\Assignments\\\\Solutions'"
      ]
     },
     "execution_count": 1,
     "metadata": {},
     "output_type": "execute_result"
    }
   ],
   "source": [
    "pwd"
   ]
  },
  {
   "cell_type": "markdown",
   "id": "cc620d78",
   "metadata": {},
   "source": [
    " It is path to file with respect to current working directory. \n",
    " - e.g. path of this file is 'C:\\\\Users\\\\pc\\\\Downloads\\\\Python Course\\\\Ineuron\\\\Python\\\\Assignments\\\\Solutions\\\\Assignment 9.ipynb'. \n",
    " - So Assignment 9.ipynb  is relative path."
   ]
  },
  {
   "cell_type": "markdown",
   "id": "e149974b",
   "metadata": {},
   "source": [
    "### 2. What does an absolute path start with your operating system?"
   ]
  },
  {
   "cell_type": "code",
   "execution_count": 7,
   "id": "c4cd35d0",
   "metadata": {},
   "outputs": [
    {
     "data": {
      "text/plain": [
       "'C:\\\\Users\\\\pc\\\\Downloads\\\\Python Course\\\\Ineuron\\\\Python\\\\Assignments\\\\Solutions'"
      ]
     },
     "execution_count": 7,
     "metadata": {},
     "output_type": "execute_result"
    }
   ],
   "source": [
    "pwd"
   ]
  },
  {
   "cell_type": "markdown",
   "id": "e21c1f3b",
   "metadata": {},
   "source": [
    "absolute path starts with C: in windows system and start with / in Linux system"
   ]
  },
  {
   "cell_type": "markdown",
   "id": "49b95d14",
   "metadata": {},
   "source": [
    "### 3. What do the functions os.getcwd() and os.chdir() do?"
   ]
  },
  {
   "cell_type": "markdown",
   "id": "e273d555",
   "metadata": {},
   "source": [
    "- os.getcwd() gives path of current working directory\n",
    "- while os.chdir() change current working directory to specified path in ()"
   ]
  },
  {
   "cell_type": "code",
   "execution_count": 8,
   "id": "7ea430dc",
   "metadata": {},
   "outputs": [],
   "source": [
    "import os"
   ]
  },
  {
   "cell_type": "code",
   "execution_count": 9,
   "id": "0d5349dc",
   "metadata": {},
   "outputs": [
    {
     "data": {
      "text/plain": [
       "'C:\\\\Users\\\\pc\\\\Downloads\\\\Python Course\\\\Ineuron\\\\Python\\\\Assignments\\\\Solutions'"
      ]
     },
     "execution_count": 9,
     "metadata": {},
     "output_type": "execute_result"
    }
   ],
   "source": [
    "os.getcwd()"
   ]
  },
  {
   "cell_type": "code",
   "execution_count": 17,
   "id": "f93075c0",
   "metadata": {
    "scrolled": true
   },
   "outputs": [],
   "source": [
    "os.chdir('C:\\\\Users\\\\pc\\\\Downloads\\\\Python Course\\\\Ineuron\\\\Python\\\\Assignments\\\\Solutions')"
   ]
  },
  {
   "cell_type": "markdown",
   "id": "1e43b422",
   "metadata": {},
   "source": [
    "### 4. What are the . and .. folders?"
   ]
  },
  {
   "cell_type": "code",
   "execution_count": 11,
   "id": "d44ec701",
   "metadata": {},
   "outputs": [
    {
     "name": "stdout",
     "output_type": "stream",
     "text": [
      "C:\\Users\\pc\n"
     ]
    }
   ],
   "source": [
    ". > current directory\n",
    ".. > parent directory"
   ]
  },
  {
   "cell_type": "code",
   "execution_count": null,
   "id": "f766fcae",
   "metadata": {},
   "outputs": [],
   "source": [
    ". Represents the Current Directory Whereas .. Represents the Parent Directory of the Current Directory"
   ]
  },
  {
   "cell_type": "code",
   "execution_count": 19,
   "id": "40ace68b",
   "metadata": {},
   "outputs": [
    {
     "data": {
      "text/plain": [
       "'C:\\\\Users\\\\pc\\\\Downloads\\\\Python Course\\\\Ineuron\\\\Python\\\\Assignments\\\\Solutions'"
      ]
     },
     "execution_count": 19,
     "metadata": {},
     "output_type": "execute_result"
    }
   ],
   "source": [
    "pwd"
   ]
  },
  {
   "cell_type": "markdown",
   "id": "7b3c58cd",
   "metadata": {
    "scrolled": true
   },
   "source": [
    "- . represents 'C:\\\\Users\\\\pc\\\\Downloads\\\\Python Course\\\\Ineuron\\\\Python\\\\Assignments\\\\Solutions'\n",
    "- .. represents 'C:\\\\Users\\\\pc\\\\Downloads\\\\Python Course\\\\Ineuron\\\\Python\\\\Assignments"
   ]
  },
  {
   "cell_type": "markdown",
   "id": "e8f261f1",
   "metadata": {},
   "source": [
    "### 5. In C:\\bacon\\eggs\\spam.txt, which part is the dir name, and which part is the base name?"
   ]
  },
  {
   "cell_type": "markdown",
   "id": "5abdf6e8",
   "metadata": {},
   "source": [
    "- C:\\bacon\\eggs\\ >> dir name\n",
    "- 'spam.txt' >> base name"
   ]
  },
  {
   "cell_type": "markdown",
   "id": "2be83d92",
   "metadata": {},
   "source": [
    "### 6. What are the three “mode” arguments that can be passed to the open() function?"
   ]
  },
  {
   "cell_type": "markdown",
   "id": "19cbd12b",
   "metadata": {},
   "source": [
    "- default mode is 'r' i.e. read mode\n",
    "- 'w' - write mode for writing the file, deletes existing file\n",
    "- 'x' - create new file\n",
    "- 'a' - append mode, used to append new data in existing file\n"
   ]
  },
  {
   "cell_type": "markdown",
   "id": "ec5eb5d7",
   "metadata": {},
   "source": [
    "### 7. What happens if an existing file is opened in write mode?"
   ]
  },
  {
   "cell_type": "markdown",
   "id": "4073851a",
   "metadata": {},
   "source": [
    "- If existing file is opened, it will be overwritten with write mode \n",
    "- if file is not present, new file will be created"
   ]
  },
  {
   "cell_type": "markdown",
   "id": "3703924c",
   "metadata": {},
   "source": [
    "### 8. How do you tell the difference between read() and readlines()?"
   ]
  },
  {
   "cell_type": "markdown",
   "id": "46022c39",
   "metadata": {},
   "source": [
    "- read() reads entire file and gives whole content in file as output\n",
    "- readlines() read entire file and gives output in list format."
   ]
  },
  {
   "cell_type": "code",
   "execution_count": 33,
   "id": "186dc134",
   "metadata": {},
   "outputs": [],
   "source": [
    "with open(\"new.txt\", \"w\") as f:\n",
    "    f.write(\"This is my new file for demo purpose\")\n",
    "with open(\"new.txt\", \"a\") as f:\n",
    "    f.write(\"\\nThis is my new file for demo purpose\")"
   ]
  },
  {
   "cell_type": "code",
   "execution_count": 52,
   "id": "c8fb2f21",
   "metadata": {},
   "outputs": [
    {
     "name": "stdout",
     "output_type": "stream",
     "text": [
      "This is my new file for demo purpose\n",
      "This is my new file for demo purpose\n",
      "['This is my new file for demo purpose\\n', 'This is my new file for demo purpose']\n"
     ]
    }
   ],
   "source": [
    "with open(\"new.txt\", \"r\") as f:\n",
    "    r = f.read()\n",
    "    print(r)\n",
    "with open(\"new.txt\", \"r\") as f:\n",
    "    rd = f.readlines()\n",
    "print(rd)"
   ]
  },
  {
   "cell_type": "markdown",
   "id": "7208aa5e",
   "metadata": {},
   "source": [
    "### 9. What data structure does a shelf value resemble?"
   ]
  },
  {
   "cell_type": "markdown",
   "id": "83b51be0",
   "metadata": {},
   "source": [
    "It represents dictionary of key:value pair"
   ]
  },
  {
   "cell_type": "code",
   "execution_count": null,
   "id": "0a271c52",
   "metadata": {},
   "outputs": [],
   "source": []
  }
 ],
 "metadata": {
  "kernelspec": {
   "display_name": "Python 3 (ipykernel)",
   "language": "python",
   "name": "python3"
  },
  "language_info": {
   "codemirror_mode": {
    "name": "ipython",
    "version": 3
   },
   "file_extension": ".py",
   "mimetype": "text/x-python",
   "name": "python",
   "nbconvert_exporter": "python",
   "pygments_lexer": "ipython3",
   "version": "3.9.7"
  }
 },
 "nbformat": 4,
 "nbformat_minor": 5
}
