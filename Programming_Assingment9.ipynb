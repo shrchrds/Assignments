{
 "cells": [
  {
   "cell_type": "code",
   "execution_count": null,
   "id": "6f8686b4",
   "metadata": {},
   "outputs": [],
   "source": [
    "1. Write a Python program to check if the given number is a Disarium Number?"
   ]
  },
  {
   "cell_type": "code",
   "execution_count": 160,
   "id": "8a9ae138",
   "metadata": {},
   "outputs": [],
   "source": [
    "# A disarium number is a number in which the sum of the digits to the power of their respective position is equal to the number itself"
   ]
  },
  {
   "cell_type": "code",
   "execution_count": 31,
   "id": "dc9e3adc",
   "metadata": {},
   "outputs": [],
   "source": [
    "def disarium(n):\n",
    "    summ = 0\n",
    "    for i, d in enumerate(str(n)):\n",
    "        summ += int(d)**(i+1)\n",
    "    if summ == n:\n",
    "        print('Disarium Number')\n",
    "    else:\n",
    "        print('Not Disarium Number')"
   ]
  },
  {
   "cell_type": "code",
   "execution_count": 35,
   "id": "bd15602b",
   "metadata": {
    "scrolled": true
   },
   "outputs": [
    {
     "name": "stdout",
     "output_type": "stream",
     "text": [
      "Disarium Number\n"
     ]
    }
   ],
   "source": [
    "disarium(89)"
   ]
  },
  {
   "cell_type": "code",
   "execution_count": null,
   "id": "7b2447d1",
   "metadata": {},
   "outputs": [],
   "source": [
    "2. Write a Python program to print all disarium numbers between 1 to 100?"
   ]
  },
  {
   "cell_type": "code",
   "execution_count": 48,
   "id": "798b5113",
   "metadata": {},
   "outputs": [],
   "source": [
    "def disarium_num(n1,n2):\n",
    "    for num in range(n1,n2):\n",
    "        summ = 0\n",
    "        for i, d in enumerate(str(num)):\n",
    "            summ += int(d)**(i+1)\n",
    "        if summ == num:\n",
    "            print(num)"
   ]
  },
  {
   "cell_type": "code",
   "execution_count": 50,
   "id": "a910d87b",
   "metadata": {},
   "outputs": [
    {
     "name": "stdout",
     "output_type": "stream",
     "text": [
      "1\n",
      "2\n",
      "3\n",
      "4\n",
      "5\n",
      "6\n",
      "7\n",
      "8\n",
      "9\n",
      "89\n"
     ]
    }
   ],
   "source": [
    "disarium_num(1,100)"
   ]
  },
  {
   "cell_type": "code",
   "execution_count": null,
   "id": "e29e6bcd",
   "metadata": {},
   "outputs": [],
   "source": [
    "3. Write a Python program to check if the given number is Happy Number?"
   ]
  },
  {
   "cell_type": "code",
   "execution_count": 161,
   "id": "0f0e47db",
   "metadata": {},
   "outputs": [],
   "source": [
    "# a happy number is a number which eventually reaches 1 when replaced by the sum of the square of each digit"
   ]
  },
  {
   "cell_type": "code",
   "execution_count": 141,
   "id": "b57cafb5",
   "metadata": {},
   "outputs": [
    {
     "name": "stdout",
     "output_type": "stream",
     "text": [
      "Given Number is not Happy Number\n"
     ]
    },
    {
     "data": {
      "text/plain": [
       "'Given Number is Happy Number'"
      ]
     },
     "execution_count": 141,
     "metadata": {},
     "output_type": "execute_result"
    }
   ],
   "source": [
    "def happy_num(n):\n",
    "    \n",
    "    old = set()\n",
    "    while n != 1:\n",
    "        n = sum(int(i)**2 for i in str(n))\n",
    "        \n",
    "        if n in old:\n",
    "            return 'Given Number is not Happy Number'\n",
    "        old.add(n)\n",
    "    return 'Given Number is Happy Number'\n",
    "print(happy_num(4))\n",
    "happy_num(13)"
   ]
  },
  {
   "cell_type": "code",
   "execution_count": null,
   "id": "b29c3e17",
   "metadata": {},
   "outputs": [],
   "source": [
    "4. Write a Python program to print all happy numbers between 1 and 100?"
   ]
  },
  {
   "cell_type": "code",
   "execution_count": 130,
   "id": "e6544ae7",
   "metadata": {},
   "outputs": [
    {
     "name": "stdout",
     "output_type": "stream",
     "text": [
      "Happy numbers are: \n",
      "[1, 7, 10, 13, 19, 23, 28, 31, 32, 44, 49, 68, 70, 79, 82, 86, 91, 94, 97, 100]\n"
     ]
    }
   ],
   "source": [
    "def happy_num(n):\n",
    "\n",
    "    summ = 0\n",
    "    while n > 0:\n",
    "        dig = n % 10\n",
    "        summ = summ + dig**2\n",
    "        n = n // 10\n",
    "    return summ\n",
    "print(\"Happy numbers are: \")\n",
    "# result = \n",
    "happy_nums = []\n",
    "\n",
    "for i in range(1,101):\n",
    "    result = i\n",
    "    while (result != 1 and result != 4):\n",
    "        result = happy_num(result)\n",
    "    if result == 1:\n",
    "        happy_nums.append(i)\n",
    "print(happy_nums)"
   ]
  },
  {
   "cell_type": "code",
   "execution_count": null,
   "id": "77594386",
   "metadata": {},
   "outputs": [],
   "source": [
    "5. Write a Python program to determine whether the given number is a Harshad Number?"
   ]
  },
  {
   "cell_type": "code",
   "execution_count": 151,
   "id": "7195a2f2",
   "metadata": {},
   "outputs": [],
   "source": [
    "def harshad_num(n):\n",
    "    summ = 0\n",
    "    for i in str(n):\n",
    "        summ += int(i)\n",
    "    if n % summ == 0:\n",
    "        print(f\"{n} is Harshad's number\")\n",
    "    else:\n",
    "        print(f\"{n} is Not Harshad's number\")"
   ]
  },
  {
   "cell_type": "code",
   "execution_count": 153,
   "id": "ded07b59",
   "metadata": {},
   "outputs": [
    {
     "name": "stdout",
     "output_type": "stream",
     "text": [
      "120 is Harshad's number\n"
     ]
    }
   ],
   "source": [
    "harshad_num(120)"
   ]
  },
  {
   "cell_type": "code",
   "execution_count": null,
   "id": "0b235562",
   "metadata": {},
   "outputs": [],
   "source": [
    "6. Write a Python program to print all pronic numbers between 1 and 100?"
   ]
  },
  {
   "cell_type": "code",
   "execution_count": 154,
   "id": "119d1044",
   "metadata": {},
   "outputs": [],
   "source": [
    "# Pronic numbers are product of 2 consecutive numbers. e.g. 2 = 1*2, 6 = 2*3"
   ]
  },
  {
   "cell_type": "code",
   "execution_count": 159,
   "id": "05aa81b6",
   "metadata": {},
   "outputs": [
    {
     "name": "stdout",
     "output_type": "stream",
     "text": [
      "Pronic numbers are: \n",
      "[6, 12, 20, 30, 42, 56, 72, 90]\n"
     ]
    }
   ],
   "source": [
    "def Pronic(n):\n",
    "    pronic = False\n",
    "    for i in range(1, n//2):\n",
    "        if i * (i+1) == n:\n",
    "            pronic = True\n",
    "            break\n",
    "    return pronic\n",
    "\n",
    "print(\"Pronic numbers are: \")\n",
    "\n",
    "pronic_nums = []\n",
    "for i in range(1,100):\n",
    "    if Pronic(i):\n",
    "        pronic_nums.append(i)\n",
    "print(pronic_nums)"
   ]
  },
  {
   "cell_type": "code",
   "execution_count": null,
   "id": "bc6e6d7e",
   "metadata": {},
   "outputs": [],
   "source": []
  }
 ],
 "metadata": {
  "kernelspec": {
   "display_name": "Python 3 (ipykernel)",
   "language": "python",
   "name": "python3"
  },
  "language_info": {
   "codemirror_mode": {
    "name": "ipython",
    "version": 3
   },
   "file_extension": ".py",
   "mimetype": "text/x-python",
   "name": "python",
   "nbconvert_exporter": "python",
   "pygments_lexer": "ipython3",
   "version": "3.9.7"
  }
 },
 "nbformat": 4,
 "nbformat_minor": 5
}
