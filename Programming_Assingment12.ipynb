{
 "cells": [
  {
   "cell_type": "code",
   "execution_count": null,
   "id": "dadc6f5c",
   "metadata": {},
   "outputs": [],
   "source": [
    "1. Write a Python program to Extract Unique values dictionary values?"
   ]
  },
  {
   "cell_type": "code",
   "execution_count": 11,
   "id": "f9491891",
   "metadata": {},
   "outputs": [],
   "source": [
    "def unique_values(d):\n",
    "    return set(d.values())"
   ]
  },
  {
   "cell_type": "code",
   "execution_count": 12,
   "id": "38c6a180",
   "metadata": {},
   "outputs": [
    {
     "data": {
      "text/plain": [
       "{433548, 98765432, 'Shiv', 'snepvpit@gmail.com'}"
      ]
     },
     "execution_count": 12,
     "metadata": {},
     "output_type": "execute_result"
    }
   ],
   "source": [
    "unique_values({'Id':433548, 'name':'Shiv', 'email':\"snepvpit@gmail.com\", 'altername_email':\"snepvpit@gmail.com\",'phone':98765432})"
   ]
  },
  {
   "cell_type": "code",
   "execution_count": null,
   "id": "89d0a283",
   "metadata": {},
   "outputs": [],
   "source": [
    "2. Write a Python program to find the sum of all items in a dictionary?"
   ]
  },
  {
   "cell_type": "code",
   "execution_count": 16,
   "id": "85a58eb4",
   "metadata": {},
   "outputs": [],
   "source": [
    "d = {'Id':433548, 'name':'Shiv', 'email':\"snepvpit@gmail.com\", 'altername_email':\"snepvpit@gmail.com\",12:98765432}"
   ]
  },
  {
   "cell_type": "code",
   "execution_count": 24,
   "id": "90e0fd63",
   "metadata": {},
   "outputs": [],
   "source": [
    "def dictsum(d):\n",
    "    nums = 0\n",
    "    for k,v in d.items():\n",
    "        if type(k) == int or type(k) == float:\n",
    "            nums += k\n",
    "        if type(v) == int or type(v) == float:\n",
    "            nums += v\n",
    "    return nums"
   ]
  },
  {
   "cell_type": "code",
   "execution_count": 25,
   "id": "941f5e89",
   "metadata": {},
   "outputs": [
    {
     "data": {
      "text/plain": [
       "99198992"
      ]
     },
     "execution_count": 25,
     "metadata": {},
     "output_type": "execute_result"
    }
   ],
   "source": [
    "dictsum({'Id':433548, 'name':'Shiv', 'email':\"snepvpit@gmail.com\", 'altername_email':\"snepvpit@gmail.com\",12:98765432})"
   ]
  },
  {
   "cell_type": "code",
   "execution_count": null,
   "id": "1764108d",
   "metadata": {},
   "outputs": [],
   "source": [
    "3. Write a Python program to Merging two Dictionaries?"
   ]
  },
  {
   "cell_type": "code",
   "execution_count": 47,
   "id": "2a887c4e",
   "metadata": {},
   "outputs": [],
   "source": [
    "def mergedict(d1,d2):\n",
    "    d3 = d1.update(d2)\n",
    "    return d1"
   ]
  },
  {
   "cell_type": "code",
   "execution_count": 48,
   "id": "d35f8557",
   "metadata": {
    "scrolled": true
   },
   "outputs": [
    {
     "data": {
      "text/plain": [
       "{1: 'a', 2: 'c', 4: 'd'}"
      ]
     },
     "execution_count": 48,
     "metadata": {},
     "output_type": "execute_result"
    }
   ],
   "source": [
    "mergedict({1: 'a', 2: 'b'},{2: 'c', 4: 'd'} )"
   ]
  },
  {
   "cell_type": "code",
   "execution_count": null,
   "id": "7227b0cc",
   "metadata": {},
   "outputs": [],
   "source": [
    "4. Write a Python program to convert key-values list to flat dictionary?"
   ]
  },
  {
   "cell_type": "code",
   "execution_count": 7,
   "id": "e5327998",
   "metadata": {},
   "outputs": [
    {
     "name": "stdout",
     "output_type": "stream",
     "text": [
      "flattened dictionary is: \n"
     ]
    },
    {
     "data": {
      "text/plain": [
       "{'Python': 'web development',\n",
       " 'SQL': 'data fetching',\n",
       " 'Pandas': 'data manipulations',\n",
       " 'Numpy': 'numerical python',\n",
       " 'Visualizations': 'Data visualization',\n",
       " 'Machine Learning': 'finding patterns',\n",
       " 'Deep Learning': 'neural networks',\n",
       " 'NLP': 'text classifciation'}"
      ]
     },
     "execution_count": 7,
     "metadata": {},
     "output_type": "execute_result"
    }
   ],
   "source": [
    "d = {'topics':['Python', 'SQL','Pandas','Numpy','Visualizations','Machine Learning','Deep Learning','NLP'],\n",
    "    'usecases':['web development', 'data fetching', 'data manipulations','numerical python', 'Data visualization','finding patterns', 'neural networks','text classifciation']\n",
    "    }\n",
    "zip_file = zip(d['topics'],d['usecases'])\n",
    "print(\"flattened dictionary is: \")\n",
    "dict(zip_file)"
   ]
  },
  {
   "cell_type": "code",
   "execution_count": null,
   "id": "d0e9f91e",
   "metadata": {},
   "outputs": [],
   "source": [
    "5. Write a Python program to insertion at the beginning in OrderedDict?"
   ]
  },
  {
   "cell_type": "code",
   "execution_count": 8,
   "id": "3d598d05",
   "metadata": {},
   "outputs": [],
   "source": [
    "from collections import OrderedDict"
   ]
  },
  {
   "cell_type": "code",
   "execution_count": 16,
   "id": "885a8111",
   "metadata": {},
   "outputs": [
    {
     "data": {
      "text/plain": [
       "OrderedDict([('e', 5), ('a', 1), ('b', 2), ('c', 3), ('d', 4)])"
      ]
     },
     "execution_count": 16,
     "metadata": {},
     "output_type": "execute_result"
    }
   ],
   "source": [
    "d1 = {'a':1, 'b':2, 'c':3, 'd':4}\n",
    "# adding an element\n",
    "d2 = {'e':5}\n",
    "\n",
    "lst = list(d2.items()) + list(d1.items())\n",
    "# creating dictionary\n",
    "\n",
    "d3 = OrderedDict(lst)\n",
    "d3"
   ]
  },
  {
   "cell_type": "code",
   "execution_count": null,
   "id": "0d79a85e",
   "metadata": {},
   "outputs": [],
   "source": [
    "6. Write a Python program to check order of character in string using OrderedDict()?"
   ]
  },
  {
   "cell_type": "code",
   "execution_count": 17,
   "id": "6d64e146",
   "metadata": {},
   "outputs": [],
   "source": [
    "def check_order(string, pattern):\n",
    "    d = OrderedDict.fromkeys(string)\n",
    "    p = 0\n",
    "    \n",
    "    for k,v in d.items():\n",
    "        if k == pattern[p]:\n",
    "            p += 1\n",
    "        elif p == len(pattern):\n",
    "            return 'True'\n",
    "    return 'False'"
   ]
  },
  {
   "cell_type": "code",
   "execution_count": 18,
   "id": "b0ee486e",
   "metadata": {},
   "outputs": [
    {
     "data": {
      "text/plain": [
       "'False'"
      ]
     },
     "execution_count": 18,
     "metadata": {},
     "output_type": "execute_result"
    }
   ],
   "source": [
    "check_order('Hare Krishna', 'ia')"
   ]
  },
  {
   "cell_type": "code",
   "execution_count": null,
   "id": "852246c6",
   "metadata": {},
   "outputs": [],
   "source": [
    "7. Write a Python program to sort Python Dictionaries by Key or Value?"
   ]
  },
  {
   "cell_type": "code",
   "execution_count": 50,
   "id": "4c7a2e20",
   "metadata": {},
   "outputs": [],
   "source": [
    "# sorting by key\n",
    "def sort_dict(d):\n",
    "    sorted_dict = {}\n",
    "    for i in sorted(d.keys()):\n",
    "        sorted_dict.update({i:d[i]})\n",
    "    return sorted_dict"
   ]
  },
  {
   "cell_type": "code",
   "execution_count": 51,
   "id": "6f878b05",
   "metadata": {},
   "outputs": [
    {
     "data": {
      "text/plain": [
       "{'apple': 100, 'banana': 40, 'grapes': 50, 'muskmelon': 70, 'watermelon': 60}"
      ]
     },
     "execution_count": 51,
     "metadata": {},
     "output_type": "execute_result"
    }
   ],
   "source": [
    "sort_dict({'apple':100,'grapes':50,'banana':40,'watermelon':60,'muskmelon':70})"
   ]
  },
  {
   "cell_type": "code",
   "execution_count": 52,
   "id": "7b3e54f3",
   "metadata": {},
   "outputs": [],
   "source": [
    "# sorting by value\n",
    "\n",
    "def sort_dict(d):\n",
    "    sorted_dict = {}\n",
    "    for i in sorted(d.values()):\n",
    "        for j in d:\n",
    "            if d[j] == i:\n",
    "                sorted_dict.update({j:d[j]})\n",
    "        \n",
    "    return sorted_dict"
   ]
  },
  {
   "cell_type": "code",
   "execution_count": 53,
   "id": "b2bfe973",
   "metadata": {},
   "outputs": [
    {
     "data": {
      "text/plain": [
       "{'banana': 40, 'grapes': 50, 'watermelon': 60, 'muskmelon': 70, 'apple': 100}"
      ]
     },
     "execution_count": 53,
     "metadata": {},
     "output_type": "execute_result"
    }
   ],
   "source": [
    "sort_dict({'apple':100,'grapes':50,'banana':40,'watermelon':60,'muskmelon':70})"
   ]
  }
 ],
 "metadata": {
  "kernelspec": {
   "display_name": "Python 3 (ipykernel)",
   "language": "python",
   "name": "python3"
  },
  "language_info": {
   "codemirror_mode": {
    "name": "ipython",
    "version": 3
   },
   "file_extension": ".py",
   "mimetype": "text/x-python",
   "name": "python",
   "nbconvert_exporter": "python",
   "pygments_lexer": "ipython3",
   "version": "3.9.7"
  }
 },
 "nbformat": 4,
 "nbformat_minor": 5
}
