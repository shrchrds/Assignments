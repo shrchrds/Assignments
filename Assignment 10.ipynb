{
 "cells": [
  {
   "cell_type": "markdown",
   "id": "0fef88ec-6cd1-47e6-81fd-6e983214a39d",
   "metadata": {},
   "source": [
    "# 1. How do you distinguish between shutil.copy() and shutil.copytree()?"
   ]
  },
  {
   "cell_type": "code",
   "execution_count": 1,
   "id": "fd8f23a9-5721-44cd-bf99-8791bacf2134",
   "metadata": {},
   "outputs": [],
   "source": [
    "import shutil\n",
    "import os"
   ]
  },
  {
   "cell_type": "code",
   "execution_count": 2,
   "id": "08450027-c5bb-4e5b-8e57-a3cf7a8c85d0",
   "metadata": {},
   "outputs": [
    {
     "data": {
      "text/plain": [
       "'./new_folder/test.txt'"
      ]
     },
     "execution_count": 2,
     "metadata": {},
     "output_type": "execute_result"
    }
   ],
   "source": [
    "with open(\"test.txt\", 'w') as f:\n",
    "    f.write(\"This is simple text file\")\n",
    "\n",
    "os.makedirs('new_folder')\n",
    "\n",
    "shutil.copy(\"test.txt\", \"./new_folder/test.txt\")"
   ]
  },
  {
   "cell_type": "markdown",
   "id": "aaff1b82-41a4-4fd1-a96e-979398f399d5",
   "metadata": {},
   "source": [
    "### Here shutil.copy(\"test.txt\", \"./new_folder/test.txt\") function copies \"test.txt\" file to \"new_folder\" folder\n",
    "### Shutil function can copy only one file at a time."
   ]
  },
  {
   "cell_type": "code",
   "execution_count": 3,
   "id": "77d2b11c-a9cc-4c51-a734-838be2dbb15d",
   "metadata": {},
   "outputs": [],
   "source": [
    "os.makedirs('test_files')\n",
    "with open(\"./test_files/test1.txt\", 'w') as f:\n",
    "    f.write(\"This is another text file\")\n",
    "\n",
    "with open(\"./test_files/test2.txt\", 'w') as f:\n",
    "    f.write(\"This is second text file\")"
   ]
  },
  {
   "cell_type": "code",
   "execution_count": 4,
   "id": "1d014284-0aad-4ba7-b74a-59e8f5c367e1",
   "metadata": {},
   "outputs": [
    {
     "data": {
      "text/plain": [
       "'./new_folder2'"
      ]
     },
     "execution_count": 4,
     "metadata": {},
     "output_type": "execute_result"
    }
   ],
   "source": [
    "shutil.copytree(\"./test_files\", \"./new_folder2\")"
   ]
  },
  {
   "cell_type": "markdown",
   "id": "c34f2572-987a-4bb6-87c0-4853be9be5cb",
   "metadata": {},
   "source": [
    "### shutil.copytree function can copy all the files/directories present in a sourch path to destination path \n"
   ]
  },
  {
   "cell_type": "markdown",
   "id": "2fbb79f8-31f1-4705-8920-a2fbbae1be5e",
   "metadata": {},
   "source": [
    "### 2. What function is used to rename files??"
   ]
  },
  {
   "cell_type": "code",
   "execution_count": 5,
   "id": "e5d922bb-f53e-4361-a571-578ed5e43ae4",
   "metadata": {},
   "outputs": [
    {
     "data": {
      "text/plain": [
       "'test3.txt'"
      ]
     },
     "execution_count": 5,
     "metadata": {},
     "output_type": "execute_result"
    }
   ],
   "source": [
    "shutil.move(\"test.txt\", \"test3.txt\")"
   ]
  },
  {
   "cell_type": "markdown",
   "id": "b825062c-cff0-40c1-acbf-ebbc12607c30",
   "metadata": {},
   "source": [
    "### shutil.move() function used to rename file"
   ]
  },
  {
   "cell_type": "markdown",
   "id": "b81db5ef-260c-42de-946d-e0563d715db2",
   "metadata": {},
   "source": [
    "# 3. What is the difference between the delete functions in the send2trash and shutil modules?"
   ]
  },
  {
   "cell_type": "markdown",
   "id": "7a7e420b-25ae-4bcd-86c2-b2e3f8847867",
   "metadata": {},
   "source": [
    "### send2trash do not permenently delete files. Files are stored in recycle bin folder where as shutil module permenently deletes files"
   ]
  },
  {
   "cell_type": "markdown",
   "id": "9347e48a-f92c-4e2a-97cc-c088eaccb44d",
   "metadata": {},
   "source": [
    "# 4. ZipFile objects have a close() method just like File objects’ close() method. What ZipFile method is equivalent to File objects’ open() method?"
   ]
  },
  {
   "cell_type": "markdown",
   "id": "af77aa85-894f-4b83-9e97-a16a1b2e82a4",
   "metadata": {},
   "source": [
    "### ZipFile() method is equivalent to open() method"
   ]
  },
  {
   "cell_type": "markdown",
   "id": "51dffd40-1493-4512-9f24-1e42cf2ec3ab",
   "metadata": {},
   "source": [
    "# 5. Create a programme that searches a folder tree for files with a certain file extension (such as .pdf or .jpg). Copy these files from whatever location they are in to a new folder."
   ]
  },
  {
   "cell_type": "code",
   "execution_count": 9,
   "id": "28c471af-b819-4c1d-bddd-c3f0f584aa3b",
   "metadata": {},
   "outputs": [
    {
     "name": "stdout",
     "output_type": "stream",
     "text": [
      "Copied ./new_folder2/test1.txt to ./text_files/test1.txt\n",
      "Copied ./new_folder2/test2.txt to ./text_files/test2.txt\n"
     ]
    }
   ],
   "source": [
    "def copy_files(src, dst, file_extension):\n",
    "    for root, dirs, files in os.walk(src):\n",
    "        for file in files:\n",
    "            if file.endswith(file_extension):\n",
    "                src_path = os.path.join(root, file)\n",
    "                dest_path = os.path.join(dst, file)\n",
    "                shutil.copy2(src_path, dest_path)\n",
    "                print(f\"Copied {src_path} to {dest_path}\")\n",
    "\n",
    "src = \"./new_folder2\"\n",
    "dst = \"./text_files\"\n",
    "file_extension = \".txt\"\n",
    "copy_files(src, dst, file_extension)"
   ]
  },
  {
   "cell_type": "code",
   "execution_count": null,
   "id": "8b2a6921-84b5-4408-8301-63d2197a8da1",
   "metadata": {},
   "outputs": [],
   "source": []
  }
 ],
 "metadata": {
  "kernelspec": {
   "display_name": "Python 3 (ipykernel)",
   "language": "python",
   "name": "python3"
  },
  "language_info": {
   "codemirror_mode": {
    "name": "ipython",
    "version": 3
   },
   "file_extension": ".py",
   "mimetype": "text/x-python",
   "name": "python",
   "nbconvert_exporter": "python",
   "pygments_lexer": "ipython3",
   "version": "3.10.6"
  }
 },
 "nbformat": 4,
 "nbformat_minor": 5
}
