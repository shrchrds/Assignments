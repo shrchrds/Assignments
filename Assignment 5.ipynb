{
 "cells": [
  {
   "cell_type": "code",
   "execution_count": null,
   "id": "07452d8c",
   "metadata": {},
   "outputs": [],
   "source": [
    "1. What does an empty dictionary's code look like?\n",
    "Ans: {}"
   ]
  },
  {
   "cell_type": "code",
   "execution_count": 1,
   "id": "13db6fd3",
   "metadata": {},
   "outputs": [],
   "source": [
    "2. What is the value of a dictionary value with the key 'foo' and the value 42?\n",
    "Ans: 42"
   ]
  },
  {
   "cell_type": "code",
   "execution_count": null,
   "id": "a9492bd1",
   "metadata": {},
   "outputs": [],
   "source": [
    "3. What is the most significant distinction between a dictionary and a list?\n",
    "Ans: \n",
    "    lists are ordered collection and dictionaries are unordered collection\n",
    "    list is collection of elements and dictionary is collection of key:value pair\n",
    "    duplicates are allowed in lists, duplicate keys are not allowed in dictionary, values allowed"
   ]
  },
  {
   "cell_type": "code",
   "execution_count": null,
   "id": "cbae3fb5",
   "metadata": {},
   "outputs": [],
   "source": [
    "4. What happens if you try to access spam['foo'] if spam is {'bar': 100}?\n",
    "Ans: \n",
    "    we will get KeyError as 'foo' is not in spam"
   ]
  },
  {
   "cell_type": "code",
   "execution_count": 3,
   "id": "52998530",
   "metadata": {},
   "outputs": [],
   "source": [
    "5. If a dictionary is stored in spam, what is the difference between the expressions 'cat' in spam and 'cat' in spam.keys()?\n",
    "Ans:\n",
    "    There will not be any difference as by default 'cat' will check in keys."
   ]
  },
  {
   "cell_type": "code",
   "execution_count": null,
   "id": "f61aa861",
   "metadata": {},
   "outputs": [],
   "source": [
    "6. If a dictionary is stored in spam, what is the difference between the expressions 'cat' in spam and 'cat' in spam.values()?"
   ]
  },
  {
   "cell_type": "code",
   "execution_count": null,
   "id": "d28d54cf",
   "metadata": {},
   "outputs": [],
   "source": [
    "Ans:\n",
    "    by default 'cat' will check in spam.keys()\n",
    "    but for 'cat' in spam.values(), it will check 'cat' in values of dictionary"
   ]
  },
  {
   "cell_type": "code",
   "execution_count": null,
   "id": "25c91f32",
   "metadata": {},
   "outputs": [],
   "source": [
    "7. What is a shortcut for the following code?\n",
    "if 'color' not in spam:\n",
    "spam['color'] = 'black'"
   ]
  },
  {
   "cell_type": "code",
   "execution_count": null,
   "id": "a3754121",
   "metadata": {},
   "outputs": [],
   "source": [
    "Ans:\n",
    "spam['color'] = 'black'\n",
    "\n",
    "if 'color' not in spam, then it will be added using above. \n",
    "in this way we can add/update single key:value pair "
   ]
  },
  {
   "cell_type": "code",
   "execution_count": null,
   "id": "0754c8a6",
   "metadata": {},
   "outputs": [],
   "source": [
    "8. How do you \"pretty print\" dictionary values using which module and function?"
   ]
  },
  {
   "cell_type": "code",
   "execution_count": null,
   "id": "c73435ff",
   "metadata": {},
   "outputs": [],
   "source": [
    "we have to import pprint module and pprint function from pprint.\n",
    "- the output of pretty print is more readable.\n",
    "- it gives each dictionary element array like format \n",
    "- it sorts dictionary by keys"
   ]
  }
 ],
 "metadata": {
  "kernelspec": {
   "display_name": "Python 3 (ipykernel)",
   "language": "python",
   "name": "python3"
  },
  "language_info": {
   "codemirror_mode": {
    "name": "ipython",
    "version": 3
   },
   "file_extension": ".py",
   "mimetype": "text/x-python",
   "name": "python",
   "nbconvert_exporter": "python",
   "pygments_lexer": "ipython3",
   "version": "3.9.7"
  }
 },
 "nbformat": 4,
 "nbformat_minor": 5
}
